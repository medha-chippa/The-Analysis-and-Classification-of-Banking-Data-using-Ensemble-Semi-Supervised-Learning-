{
  "nbformat": 4,
  "nbformat_minor": 0,
  "metadata": {
    "colab": {
      "name": "Data Science Project Initial Model Building.ipynb",
      "provenance": [],
      "collapsed_sections": []
    },
    "kernelspec": {
      "display_name": "Python 3",
      "name": "python3"
    },
    "accelerator": "GPU"
  },
  "cells": [
    {
      "cell_type": "code",
      "metadata": {
        "colab": {
          "base_uri": "https://localhost:8080/"
        },
        "id": "IdH70Xj5Ux0a",
        "outputId": "0226d3e3-6e2a-4632-c603-2244dd47af4e"
      },
      "source": [
        "import numpy as np\n",
        "import pandas as pd\n",
        "import pickle\n",
        "from sklearn.externals import joblib\n",
        "import seaborn as sns\n",
        "import matplotlib.pyplot as plt\n",
        "%matplotlib inline"
      ],
      "execution_count": null,
      "outputs": [
        {
          "output_type": "stream",
          "text": [
            "/usr/local/lib/python3.6/dist-packages/sklearn/externals/joblib/__init__.py:15: FutureWarning: sklearn.externals.joblib is deprecated in 0.21 and will be removed in 0.23. Please import this functionality directly from joblib, which can be installed with: pip install joblib. If this warning is raised when loading pickled models, you may need to re-serialize those models with scikit-learn 0.21+.\n",
            "  warnings.warn(msg, category=FutureWarning)\n"
          ],
          "name": "stderr"
        }
      ]
    },
    {
      "cell_type": "code",
      "metadata": {
        "id": "nEmgVAnmTLmJ"
      },
      "source": [
        "from keras.models import Sequential\n",
        "from keras.layers import Dense"
      ],
      "execution_count": null,
      "outputs": []
    },
    {
      "cell_type": "code",
      "metadata": {
        "id": "IV12fvRuTSRA"
      },
      "source": [
        "import tensorflow as tf"
      ],
      "execution_count": null,
      "outputs": []
    },
    {
      "cell_type": "code",
      "metadata": {
        "id": "npn51vLkV9dP"
      },
      "source": [
        "from pydrive.auth import GoogleAuth\n",
        "from pydrive.drive import GoogleDrive\n",
        "from google.colab import auth\n",
        "from oauth2client.client import GoogleCredentials"
      ],
      "execution_count": null,
      "outputs": []
    },
    {
      "cell_type": "code",
      "metadata": {
        "id": "wv6p34LxWDN2"
      },
      "source": [
        "auth.authenticate_user()\n",
        "gauth = GoogleAuth()\n",
        "gauth.credentials = GoogleCredentials.get_application_default()\n",
        "drive = GoogleDrive(gauth)"
      ],
      "execution_count": null,
      "outputs": []
    },
    {
      "cell_type": "code",
      "metadata": {
        "id": "S8VnfbX9V9m-"
      },
      "source": [
        "fin_dt = drive.CreateFile({'id':'1DJz0dEcz85wP_g1frkri1NK0ewEjnY1z'}) # replace the id with id of file you want to access\n",
        "fin_dt.GetContentFile('final_tran_dt.pkl') "
      ],
      "execution_count": null,
      "outputs": []
    },
    {
      "cell_type": "code",
      "metadata": {
        "id": "zBZrT9MEU9pw"
      },
      "source": [
        "fin_df=joblib.load(\"final_tran_dt.pkl\")"
      ],
      "execution_count": null,
      "outputs": []
    },
    {
      "cell_type": "code",
      "metadata": {
        "colab": {
          "base_uri": "https://localhost:8080/",
          "height": 241
        },
        "id": "OkKAH9KeVPFC",
        "outputId": "c5d99b00-fc5d-40eb-ffdc-27229c0caea8"
      },
      "source": [
        "fin_df.head()"
      ],
      "execution_count": null,
      "outputs": [
        {
          "output_type": "execute_result",
          "data": {
            "text/html": [
              "<div>\n",
              "<style scoped>\n",
              "    .dataframe tbody tr th:only-of-type {\n",
              "        vertical-align: middle;\n",
              "    }\n",
              "\n",
              "    .dataframe tbody tr th {\n",
              "        vertical-align: top;\n",
              "    }\n",
              "\n",
              "    .dataframe thead th {\n",
              "        text-align: right;\n",
              "    }\n",
              "</style>\n",
              "<table border=\"1\" class=\"dataframe\">\n",
              "  <thead>\n",
              "    <tr style=\"text-align: right;\">\n",
              "      <th></th>\n",
              "      <th>ID</th>\n",
              "      <th>age</th>\n",
              "      <th>balance</th>\n",
              "      <th>day</th>\n",
              "      <th>duration</th>\n",
              "      <th>campaign</th>\n",
              "      <th>pdays</th>\n",
              "      <th>previous</th>\n",
              "      <th>marital_le</th>\n",
              "      <th>default_le</th>\n",
              "      <th>housing_le</th>\n",
              "      <th>loan_le</th>\n",
              "      <th>contact_le</th>\n",
              "      <th>month_le</th>\n",
              "      <th>poutcome_le</th>\n",
              "      <th>subscribed_le</th>\n",
              "      <th>job_admin.</th>\n",
              "      <th>job_blue-collar</th>\n",
              "      <th>job_entrepreneur</th>\n",
              "      <th>job_housemaid</th>\n",
              "      <th>job_management</th>\n",
              "      <th>job_retired</th>\n",
              "      <th>job_self-employed</th>\n",
              "      <th>job_services</th>\n",
              "      <th>job_student</th>\n",
              "      <th>job_technician</th>\n",
              "      <th>job_unemployed</th>\n",
              "    </tr>\n",
              "  </thead>\n",
              "  <tbody>\n",
              "    <tr>\n",
              "      <th>0</th>\n",
              "      <td>26110</td>\n",
              "      <td>56</td>\n",
              "      <td>1933</td>\n",
              "      <td>19</td>\n",
              "      <td>44</td>\n",
              "      <td>2</td>\n",
              "      <td>-1</td>\n",
              "      <td>0</td>\n",
              "      <td>1</td>\n",
              "      <td>0</td>\n",
              "      <td>0</td>\n",
              "      <td>0</td>\n",
              "      <td>1</td>\n",
              "      <td>9</td>\n",
              "      <td>3</td>\n",
              "      <td>0</td>\n",
              "      <td>1</td>\n",
              "      <td>0</td>\n",
              "      <td>0</td>\n",
              "      <td>0</td>\n",
              "      <td>0</td>\n",
              "      <td>0</td>\n",
              "      <td>0</td>\n",
              "      <td>0</td>\n",
              "      <td>0</td>\n",
              "      <td>0</td>\n",
              "      <td>0</td>\n",
              "    </tr>\n",
              "    <tr>\n",
              "      <th>1</th>\n",
              "      <td>40576</td>\n",
              "      <td>31</td>\n",
              "      <td>3</td>\n",
              "      <td>20</td>\n",
              "      <td>91</td>\n",
              "      <td>2</td>\n",
              "      <td>-1</td>\n",
              "      <td>0</td>\n",
              "      <td>1</td>\n",
              "      <td>0</td>\n",
              "      <td>0</td>\n",
              "      <td>0</td>\n",
              "      <td>0</td>\n",
              "      <td>5</td>\n",
              "      <td>3</td>\n",
              "      <td>0</td>\n",
              "      <td>0</td>\n",
              "      <td>0</td>\n",
              "      <td>0</td>\n",
              "      <td>0</td>\n",
              "      <td>0</td>\n",
              "      <td>0</td>\n",
              "      <td>0</td>\n",
              "      <td>0</td>\n",
              "      <td>0</td>\n",
              "      <td>0</td>\n",
              "      <td>0</td>\n",
              "    </tr>\n",
              "    <tr>\n",
              "      <th>2</th>\n",
              "      <td>15320</td>\n",
              "      <td>27</td>\n",
              "      <td>891</td>\n",
              "      <td>18</td>\n",
              "      <td>240</td>\n",
              "      <td>1</td>\n",
              "      <td>-1</td>\n",
              "      <td>0</td>\n",
              "      <td>1</td>\n",
              "      <td>0</td>\n",
              "      <td>1</td>\n",
              "      <td>0</td>\n",
              "      <td>0</td>\n",
              "      <td>5</td>\n",
              "      <td>3</td>\n",
              "      <td>0</td>\n",
              "      <td>0</td>\n",
              "      <td>0</td>\n",
              "      <td>0</td>\n",
              "      <td>0</td>\n",
              "      <td>0</td>\n",
              "      <td>0</td>\n",
              "      <td>0</td>\n",
              "      <td>1</td>\n",
              "      <td>0</td>\n",
              "      <td>0</td>\n",
              "      <td>0</td>\n",
              "    </tr>\n",
              "    <tr>\n",
              "      <th>3</th>\n",
              "      <td>43962</td>\n",
              "      <td>57</td>\n",
              "      <td>3287</td>\n",
              "      <td>22</td>\n",
              "      <td>867</td>\n",
              "      <td>1</td>\n",
              "      <td>84</td>\n",
              "      <td>3</td>\n",
              "      <td>0</td>\n",
              "      <td>0</td>\n",
              "      <td>0</td>\n",
              "      <td>0</td>\n",
              "      <td>0</td>\n",
              "      <td>6</td>\n",
              "      <td>2</td>\n",
              "      <td>1</td>\n",
              "      <td>0</td>\n",
              "      <td>0</td>\n",
              "      <td>0</td>\n",
              "      <td>0</td>\n",
              "      <td>1</td>\n",
              "      <td>0</td>\n",
              "      <td>0</td>\n",
              "      <td>0</td>\n",
              "      <td>0</td>\n",
              "      <td>0</td>\n",
              "      <td>0</td>\n",
              "    </tr>\n",
              "    <tr>\n",
              "      <th>4</th>\n",
              "      <td>29842</td>\n",
              "      <td>31</td>\n",
              "      <td>119</td>\n",
              "      <td>4</td>\n",
              "      <td>380</td>\n",
              "      <td>1</td>\n",
              "      <td>-1</td>\n",
              "      <td>0</td>\n",
              "      <td>1</td>\n",
              "      <td>0</td>\n",
              "      <td>1</td>\n",
              "      <td>0</td>\n",
              "      <td>0</td>\n",
              "      <td>3</td>\n",
              "      <td>3</td>\n",
              "      <td>0</td>\n",
              "      <td>0</td>\n",
              "      <td>0</td>\n",
              "      <td>0</td>\n",
              "      <td>0</td>\n",
              "      <td>0</td>\n",
              "      <td>0</td>\n",
              "      <td>0</td>\n",
              "      <td>0</td>\n",
              "      <td>0</td>\n",
              "      <td>1</td>\n",
              "      <td>0</td>\n",
              "    </tr>\n",
              "  </tbody>\n",
              "</table>\n",
              "</div>"
            ],
            "text/plain": [
              "      ID  age  balance  ...  job_student  job_technician  job_unemployed\n",
              "0  26110   56     1933  ...            0               0               0\n",
              "1  40576   31        3  ...            0               0               0\n",
              "2  15320   27      891  ...            0               0               0\n",
              "3  43962   57     3287  ...            0               0               0\n",
              "4  29842   31      119  ...            0               1               0\n",
              "\n",
              "[5 rows x 27 columns]"
            ]
          },
          "metadata": {
            "tags": []
          },
          "execution_count": 8
        }
      ]
    },
    {
      "cell_type": "code",
      "metadata": {
        "colab": {
          "base_uri": "https://localhost:8080/",
          "height": 280
        },
        "id": "tk4_M7U-Wd_c",
        "outputId": "4ceec9f6-4b47-4ebf-cc17-c2cf69809238"
      },
      "source": [
        "count_plt=sns.countplot(x='subscribed_le',data=fin_df)"
      ],
      "execution_count": null,
      "outputs": [
        {
          "output_type": "display_data",
          "data": {
            "image/png": "[encoded data removed]",
            "text/plain": [
              "<Figure size 432x288 with 1 Axes>"
            ]
          },
          "metadata": {
            "tags": []
          }
        }
      ]
    },
    {
      "cell_type": "code",
      "metadata": {
        "id": "ZRYM1FJOWnlf"
      },
      "source": [
        "c_relation=fin_df.corr()"
      ],
      "execution_count": null,
      "outputs": []
    },
    {
      "cell_type": "code",
      "metadata": {
        "colab": {
          "base_uri": "https://localhost:8080/",
          "height": 583
        },
        "id": "az1K4kDcWtww",
        "outputId": "59aa8ed8-4dbf-49f4-b35b-bf60861aa77c"
      },
      "source": [
        "plt.figure(figsize=(20,10),dpi=100)\n",
        "#ht_map=sns.heatmap(c_relation,cmap='coolwarm',annot=True)\n",
        "ht_map=sns.heatmap(c_relation,cmap='coolwarm',cbar_kws={'label': 'My Colorbar', 'orientation': 'horizontal'})"
      ],
      "execution_count": null,
      "outputs": [
        {
          "output_type": "display_data",
          "data": {
            "image/png": "[encoded data removed]",
            "text/plain": [
              "<Figure size 2000x1000 with 2 Axes>"
            ]
          },
          "metadata": {
            "tags": []
          }
        }
      ]
    },
    {
      "cell_type": "code",
      "metadata": {
        "id": "7r8E70vpZlJ2"
      },
      "source": [
        "from sklearn.tree import DecisionTreeClassifier\n",
        "from sklearn.model_selection import train_test_split\n",
        "from sklearn.ensemble import RandomForestClassifier\n",
        "from random import randint"
      ],
      "execution_count": null,
      "outputs": []
    },
    {
      "cell_type": "code",
      "metadata": {
        "id": "gYv2VF2GWxbq"
      },
      "source": [
        "x=fin_df.drop('subscribed_le',axis=1)\n",
        "y=fin_df['subscribed_le']"
      ],
      "execution_count": null,
      "outputs": []
    },
    {
      "cell_type": "code",
      "metadata": {
        "id": "gN5IlJP5ZLue"
      },
      "source": [
        "x_train,x_test,y_train,y_test=train_test_split(x,y,test_size=0.2,random_state=100)"
      ],
      "execution_count": null,
      "outputs": []
    },
    {
      "cell_type": "code",
      "metadata": {
        "colab": {
          "base_uri": "https://localhost:8080/"
        },
        "id": "nIKH63TaZRCZ",
        "outputId": "fed0d80c-e736-422f-b7eb-dda38e5c9537"
      },
      "source": [
        "x_train.info()"
      ],
      "execution_count": null,
      "outputs": [
        {
          "output_type": "stream",
          "text": [
            "<class 'pandas.core.frame.DataFrame'>\n",
            "Int64Index: 25317 entries, 2246 to 5640\n",
            "Data columns (total 26 columns):\n",
            " #   Column             Non-Null Count  Dtype\n",
            "---  ------             --------------  -----\n",
            " 0   ID                 25317 non-null  int64\n",
            " 1   age                25317 non-null  int64\n",
            " 2   balance            25317 non-null  int64\n",
            " 3   day                25317 non-null  int64\n",
            " 4   duration           25317 non-null  int64\n",
            " 5   campaign           25317 non-null  int64\n",
            " 6   pdays              25317 non-null  int64\n",
            " 7   previous           25317 non-null  int64\n",
            " 8   marital_le         25317 non-null  int64\n",
            " 9   default_le         25317 non-null  int64\n",
            " 10  housing_le         25317 non-null  int64\n",
            " 11  loan_le            25317 non-null  int64\n",
            " 12  contact_le         25317 non-null  int64\n",
            " 13  month_le           25317 non-null  int64\n",
            " 14  poutcome_le        25317 non-null  int64\n",
            " 15  job_admin.         25317 non-null  uint8\n",
            " 16  job_blue-collar    25317 non-null  uint8\n",
            " 17  job_entrepreneur   25317 non-null  uint8\n",
            " 18  job_housemaid      25317 non-null  uint8\n",
            " 19  job_management     25317 non-null  uint8\n",
            " 20  job_retired        25317 non-null  uint8\n",
            " 21  job_self-employed  25317 non-null  uint8\n",
            " 22  job_services       25317 non-null  uint8\n",
            " 23  job_student        25317 non-null  uint8\n",
            " 24  job_technician     25317 non-null  uint8\n",
            " 25  job_unemployed     25317 non-null  uint8\n",
            "dtypes: int64(15), uint8(11)\n",
            "memory usage: 3.4 MB\n"
          ],
          "name": "stdout"
        }
      ]
    },
    {
      "cell_type": "code",
      "metadata": {
        "colab": {
          "base_uri": "https://localhost:8080/"
        },
        "id": "kDr4SexXZtvS",
        "outputId": "8c29322e-bacc-42ff-e10d-499adf9e1b16"
      },
      "source": [
        "y_train.shape"
      ],
      "execution_count": null,
      "outputs": [
        {
          "output_type": "execute_result",
          "data": {
            "text/plain": [
              "(25317,)"
            ]
          },
          "metadata": {
            "tags": []
          },
          "execution_count": 27
        }
      ]
    },
    {
      "cell_type": "code",
      "metadata": {
        "colab": {
          "base_uri": "https://localhost:8080/"
        },
        "id": "Ci2qQxqkZ0xT",
        "outputId": "f313cb41-b508-4cff-9ac3-00b889dc0345"
      },
      "source": [
        "x_test.info()"
      ],
      "execution_count": null,
      "outputs": [
        {
          "output_type": "stream",
          "text": [
            "<class 'pandas.core.frame.DataFrame'>\n",
            "Int64Index: 6330 entries, 30184 to 13931\n",
            "Data columns (total 26 columns):\n",
            " #   Column             Non-Null Count  Dtype\n",
            "---  ------             --------------  -----\n",
            " 0   ID                 6330 non-null   int64\n",
            " 1   age                6330 non-null   int64\n",
            " 2   balance            6330 non-null   int64\n",
            " 3   day                6330 non-null   int64\n",
            " 4   duration           6330 non-null   int64\n",
            " 5   campaign           6330 non-null   int64\n",
            " 6   pdays              6330 non-null   int64\n",
            " 7   previous           6330 non-null   int64\n",
            " 8   marital_le         6330 non-null   int64\n",
            " 9   default_le         6330 non-null   int64\n",
            " 10  housing_le         6330 non-null   int64\n",
            " 11  loan_le            6330 non-null   int64\n",
            " 12  contact_le         6330 non-null   int64\n",
            " 13  month_le           6330 non-null   int64\n",
            " 14  poutcome_le        6330 non-null   int64\n",
            " 15  job_admin.         6330 non-null   uint8\n",
            " 16  job_blue-collar    6330 non-null   uint8\n",
            " 17  job_entrepreneur   6330 non-null   uint8\n",
            " 18  job_housemaid      6330 non-null   uint8\n",
            " 19  job_management     6330 non-null   uint8\n",
            " 20  job_retired        6330 non-null   uint8\n",
            " 21  job_self-employed  6330 non-null   uint8\n",
            " 22  job_services       6330 non-null   uint8\n",
            " 23  job_student        6330 non-null   uint8\n",
            " 24  job_technician     6330 non-null   uint8\n",
            " 25  job_unemployed     6330 non-null   uint8\n",
            "dtypes: int64(15), uint8(11)\n",
            "memory usage: 859.2 KB\n"
          ],
          "name": "stdout"
        }
      ]
    },
    {
      "cell_type": "code",
      "metadata": {
        "colab": {
          "base_uri": "https://localhost:8080/"
        },
        "id": "bjQlqDHpZ6kG",
        "outputId": "22dc4901-5282-4f55-e7ce-a9d50ceb7474"
      },
      "source": [
        "y_test.shape"
      ],
      "execution_count": null,
      "outputs": [
        {
          "output_type": "execute_result",
          "data": {
            "text/plain": [
              "(6330,)"
            ]
          },
          "metadata": {
            "tags": []
          },
          "execution_count": 29
        }
      ]
    },
    {
      "cell_type": "code",
      "metadata": {
        "id": "fp9ReBpXaAGk"
      },
      "source": [
        "x_train, x_val, y_train, y_val = train_test_split(x_train, y_train, test_size=0.25, random_state=100) # 0.25 x 0.8 = 0.2"
      ],
      "execution_count": null,
      "outputs": []
    },
    {
      "cell_type": "code",
      "metadata": {
        "colab": {
          "base_uri": "https://localhost:8080/"
        },
        "id": "kXrftNiSa3R0",
        "outputId": "f0f062f2-2454-41a1-c236-03d5fc976dba"
      },
      "source": [
        "x_train.info()"
      ],
      "execution_count": null,
      "outputs": [
        {
          "output_type": "stream",
          "text": [
            "<class 'pandas.core.frame.DataFrame'>\n",
            "Int64Index: 18987 entries, 29715 to 3236\n",
            "Data columns (total 26 columns):\n",
            " #   Column             Non-Null Count  Dtype\n",
            "---  ------             --------------  -----\n",
            " 0   ID                 18987 non-null  int64\n",
            " 1   age                18987 non-null  int64\n",
            " 2   balance            18987 non-null  int64\n",
            " 3   day                18987 non-null  int64\n",
            " 4   duration           18987 non-null  int64\n",
            " 5   campaign           18987 non-null  int64\n",
            " 6   pdays              18987 non-null  int64\n",
            " 7   previous           18987 non-null  int64\n",
            " 8   marital_le         18987 non-null  int64\n",
            " 9   default_le         18987 non-null  int64\n",
            " 10  housing_le         18987 non-null  int64\n",
            " 11  loan_le            18987 non-null  int64\n",
            " 12  contact_le         18987 non-null  int64\n",
            " 13  month_le           18987 non-null  int64\n",
            " 14  poutcome_le        18987 non-null  int64\n",
            " 15  job_admin.         18987 non-null  uint8\n",
            " 16  job_blue-collar    18987 non-null  uint8\n",
            " 17  job_entrepreneur   18987 non-null  uint8\n",
            " 18  job_housemaid      18987 non-null  uint8\n",
            " 19  job_management     18987 non-null  uint8\n",
            " 20  job_retired        18987 non-null  uint8\n",
            " 21  job_self-employed  18987 non-null  uint8\n",
            " 22  job_services       18987 non-null  uint8\n",
            " 23  job_student        18987 non-null  uint8\n",
            " 24  job_technician     18987 non-null  uint8\n",
            " 25  job_unemployed     18987 non-null  uint8\n",
            "dtypes: int64(15), uint8(11)\n",
            "memory usage: 2.5 MB\n"
          ],
          "name": "stdout"
        }
      ]
    },
    {
      "cell_type": "code",
      "metadata": {
        "colab": {
          "base_uri": "https://localhost:8080/"
        },
        "id": "E9y6oINda7QE",
        "outputId": "d01d6bd3-db93-4700-c689-b1165c4cce48"
      },
      "source": [
        "y_train.shape"
      ],
      "execution_count": null,
      "outputs": [
        {
          "output_type": "execute_result",
          "data": {
            "text/plain": [
              "(18987,)"
            ]
          },
          "metadata": {
            "tags": []
          },
          "execution_count": 33
        }
      ]
    },
    {
      "cell_type": "code",
      "metadata": {
        "colab": {
          "base_uri": "https://localhost:8080/"
        },
        "id": "p9Y3WGcEbBOp",
        "outputId": "1aea54fa-9961-44b0-d4d1-6300aff9590d"
      },
      "source": [
        "x_val.info()"
      ],
      "execution_count": null,
      "outputs": [
        {
          "output_type": "stream",
          "text": [
            "<class 'pandas.core.frame.DataFrame'>\n",
            "Int64Index: 6330 entries, 5473 to 24937\n",
            "Data columns (total 26 columns):\n",
            " #   Column             Non-Null Count  Dtype\n",
            "---  ------             --------------  -----\n",
            " 0   ID                 6330 non-null   int64\n",
            " 1   age                6330 non-null   int64\n",
            " 2   balance            6330 non-null   int64\n",
            " 3   day                6330 non-null   int64\n",
            " 4   duration           6330 non-null   int64\n",
            " 5   campaign           6330 non-null   int64\n",
            " 6   pdays              6330 non-null   int64\n",
            " 7   previous           6330 non-null   int64\n",
            " 8   marital_le         6330 non-null   int64\n",
            " 9   default_le         6330 non-null   int64\n",
            " 10  housing_le         6330 non-null   int64\n",
            " 11  loan_le            6330 non-null   int64\n",
            " 12  contact_le         6330 non-null   int64\n",
            " 13  month_le           6330 non-null   int64\n",
            " 14  poutcome_le        6330 non-null   int64\n",
            " 15  job_admin.         6330 non-null   uint8\n",
            " 16  job_blue-collar    6330 non-null   uint8\n",
            " 17  job_entrepreneur   6330 non-null   uint8\n",
            " 18  job_housemaid      6330 non-null   uint8\n",
            " 19  job_management     6330 non-null   uint8\n",
            " 20  job_retired        6330 non-null   uint8\n",
            " 21  job_self-employed  6330 non-null   uint8\n",
            " 22  job_services       6330 non-null   uint8\n",
            " 23  job_student        6330 non-null   uint8\n",
            " 24  job_technician     6330 non-null   uint8\n",
            " 25  job_unemployed     6330 non-null   uint8\n",
            "dtypes: int64(15), uint8(11)\n",
            "memory usage: 859.2 KB\n"
          ],
          "name": "stdout"
        }
      ]
    },
    {
      "cell_type": "code",
      "metadata": {
        "colab": {
          "base_uri": "https://localhost:8080/"
        },
        "id": "_dLbKuv1bD5E",
        "outputId": "4963c852-80fe-4647-ac2e-98924f66f9d5"
      },
      "source": [
        "y_val.shape"
      ],
      "execution_count": null,
      "outputs": [
        {
          "output_type": "execute_result",
          "data": {
            "text/plain": [
              "(6330,)"
            ]
          },
          "metadata": {
            "tags": []
          },
          "execution_count": 35
        }
      ]
    },
    {
      "cell_type": "code",
      "metadata": {
        "id": "fqo4rnYhbJRV"
      },
      "source": [
        "param_grid_dtrees=[{'max_depth': [3,None],'min_samples_leaf':[randint(1,9)],'criterion':['gini','entropy'],'splitter':['best','random']}]"
      ],
      "execution_count": null,
      "outputs": []
    },
    {
      "cell_type": "code",
      "metadata": {
        "id": "mnMJqnSccNSM"
      },
      "source": [
        "from sklearn.model_selection import GridSearchCV\n",
        "from sklearn.metrics import classification_report,confusion_matrix\n",
        "from sklearn.metrics import accuracy_score"
      ],
      "execution_count": null,
      "outputs": []
    },
    {
      "cell_type": "code",
      "metadata": {
        "id": "6M-1F4Swcpmf"
      },
      "source": [
        "model_dtrees=GridSearchCV(DecisionTreeClassifier(random_state=101),param_grid_dtrees,cv=10,scoring='accuracy')"
      ],
      "execution_count": null,
      "outputs": []
    },
    {
      "cell_type": "code",
      "metadata": {
        "colab": {
          "base_uri": "https://localhost:8080/"
        },
        "id": "klSx4Nsjc0Js",
        "outputId": "94010bce-1063-4ab0-8a3a-201ff78fc500"
      },
      "source": [
        "model_dtrees.fit(x_train,y_train)"
      ],
      "execution_count": null,
      "outputs": [
        {
          "output_type": "execute_result",
          "data": {
            "text/plain": [
              "GridSearchCV(cv=10, error_score=nan,\n",
              "             estimator=DecisionTreeClassifier(ccp_alpha=0.0, class_weight=None,\n",
              "                                              criterion='gini', max_depth=None,\n",
              "                                              max_features=None,\n",
              "                                              max_leaf_nodes=None,\n",
              "                                              min_impurity_decrease=0.0,\n",
              "                                              min_impurity_split=None,\n",
              "                                              min_samples_leaf=1,\n",
              "                                              min_samples_split=2,\n",
              "                                              min_weight_fraction_leaf=0.0,\n",
              "                                              presort='deprecated',\n",
              "                                              random_state=101,\n",
              "                                              splitter='best'),\n",
              "             iid='deprecated', n_jobs=None,\n",
              "             param_grid=[{'criterion': ['gini', 'entropy'],\n",
              "                          'max_depth': [3, None], 'min_samples_leaf': [4],\n",
              "                          'splitter': ['best', 'random']}],\n",
              "             pre_dispatch='2*n_jobs', refit=True, return_train_score=False,\n",
              "             scoring='accuracy', verbose=0)"
            ]
          },
          "metadata": {
            "tags": []
          },
          "execution_count": 42
        }
      ]
    },
    {
      "cell_type": "code",
      "metadata": {
        "colab": {
          "base_uri": "https://localhost:8080/"
        },
        "id": "2GRKISq8c8p0",
        "outputId": "676e889d-59ca-46c9-e90b-c14bfba987ce"
      },
      "source": [
        "model_dtrees.best_params_"
      ],
      "execution_count": null,
      "outputs": [
        {
          "output_type": "execute_result",
          "data": {
            "text/plain": [
              "{'criterion': 'gini',\n",
              " 'max_depth': 3,\n",
              " 'min_samples_leaf': 4,\n",
              " 'splitter': 'best'}"
            ]
          },
          "metadata": {
            "tags": []
          },
          "execution_count": 43
        }
      ]
    },
    {
      "cell_type": "code",
      "metadata": {
        "id": "LnbqmIKxdCpc"
      },
      "source": [
        "model_dtrees_pred=model_dtrees.predict(x_val)"
      ],
      "execution_count": null,
      "outputs": []
    },
    {
      "cell_type": "code",
      "metadata": {
        "colab": {
          "base_uri": "https://localhost:8080/"
        },
        "id": "I2P84clFdO43",
        "outputId": "71a71d35-7a70-4ce4-ed35-0f53e3be27c8"
      },
      "source": [
        "print(classification_report(y_val,model_dtrees_pred))"
      ],
      "execution_count": null,
      "outputs": [
        {
          "output_type": "stream",
          "text": [
            "              precision    recall  f1-score   support\n",
            "\n",
            "           0       0.94      0.94      0.94      5584\n",
            "           1       0.58      0.58      0.58       746\n",
            "\n",
            "    accuracy                           0.90      6330\n",
            "   macro avg       0.76      0.76      0.76      6330\n",
            "weighted avg       0.90      0.90      0.90      6330\n",
            "\n"
          ],
          "name": "stdout"
        }
      ]
    },
    {
      "cell_type": "code",
      "metadata": {
        "colab": {
          "base_uri": "https://localhost:8080/"
        },
        "id": "cYkttSksdWhb",
        "outputId": "821897d2-5d5a-4b5c-a2b0-f4f160a6bdde"
      },
      "source": [
        "accuracy_score(y_val, model_dtrees_pred)"
      ],
      "execution_count": null,
      "outputs": [
        {
          "output_type": "execute_result",
          "data": {
            "text/plain": [
              "0.9006319115323854"
            ]
          },
          "metadata": {
            "tags": []
          },
          "execution_count": 49
        }
      ]
    },
    {
      "cell_type": "code",
      "metadata": {
        "id": "TREwXNOhsfkv"
      },
      "source": [
        "model_dtrees_best_estimator=DecisionTreeClassifier(criterion='gini',max_depth=3,min_samples_leaf=4,splitter='best',random_state=123)"
      ],
      "execution_count": null,
      "outputs": []
    },
    {
      "cell_type": "code",
      "metadata": {
        "colab": {
          "base_uri": "https://localhost:8080/"
        },
        "id": "xt_DN8lEsqO2",
        "outputId": "0797b35e-29c3-421a-b151-ef840d5d97e2"
      },
      "source": [
        "model_dtrees_best_estimator.fit(x_train,y_train)"
      ],
      "execution_count": null,
      "outputs": [
        {
          "output_type": "execute_result",
          "data": {
            "text/plain": [
              "DecisionTreeClassifier(ccp_alpha=0.0, class_weight=None, criterion='gini',\n",
              "                       max_depth=3, max_features=None, max_leaf_nodes=None,\n",
              "                       min_impurity_decrease=0.0, min_impurity_split=None,\n",
              "                       min_samples_leaf=4, min_samples_split=2,\n",
              "                       min_weight_fraction_leaf=0.0, presort='deprecated',\n",
              "                       random_state=123, splitter='best')"
            ]
          },
          "metadata": {
            "tags": []
          },
          "execution_count": 72
        }
      ]
    },
    {
      "cell_type": "code",
      "metadata": {
        "id": "aShHOHiJs_lZ"
      },
      "source": [
        "model_dtrees_pred_best_est=model_dtrees_best_estimator.predict(x_val)"
      ],
      "execution_count": null,
      "outputs": []
    },
    {
      "cell_type": "code",
      "metadata": {
        "colab": {
          "base_uri": "https://localhost:8080/"
        },
        "id": "ieHPFXQZtNKV",
        "outputId": "c47e2515-33e0-494f-f557-75df6aa3fefe"
      },
      "source": [
        "print(classification_report(y_val,model_dtrees_pred_best_est))"
      ],
      "execution_count": null,
      "outputs": [
        {
          "output_type": "stream",
          "text": [
            "              precision    recall  f1-score   support\n",
            "\n",
            "           0       0.94      0.94      0.94      5584\n",
            "           1       0.58      0.58      0.58       746\n",
            "\n",
            "    accuracy                           0.90      6330\n",
            "   macro avg       0.76      0.76      0.76      6330\n",
            "weighted avg       0.90      0.90      0.90      6330\n",
            "\n"
          ],
          "name": "stdout"
        }
      ]
    },
    {
      "cell_type": "code",
      "metadata": {
        "id": "dLl4N9YMhWDF"
      },
      "source": [
        "from sklearn.ensemble import RandomForestClassifier\n",
        "param_grid_rf=[{'bootstrap': [True, False],\n",
        " 'max_depth': [10, 20, 30, 40, 50, 60, 70, 80, 90, 100, None],\n",
        " 'max_features': ['auto', 'sqrt'],\n",
        " 'min_samples_leaf': [1, 2, 4],\n",
        " 'min_samples_split': [2, 5, 10],\n",
        " 'n_estimators': [200, 400, 600, 800, 1000, 1200, 1400, 1600, 1800, 2000]}]"
      ],
      "execution_count": null,
      "outputs": []
    },
    {
      "cell_type": "code",
      "metadata": {
        "id": "AfyInFUHICxE"
      },
      "source": [
        "param_grid1_rf=[{'bootstrap': [True, False],\n",
        " 'max_depth': [10,20,30,40,50,60,70,80,90,100,None],\n",
        " 'max_features': ['auto', 'sqrt'],\n",
        " 'min_samples_leaf': [1, 2, 4],\n",
        " 'min_samples_split': [2, 5, 10],\n",
        " 'n_estimators': [200]}]"
      ],
      "execution_count": null,
      "outputs": []
    },
    {
      "cell_type": "code",
      "metadata": {
        "id": "QkVoMIqRD2Wj"
      },
      "source": [
        "model_rf=GridSearchCV(RandomForestClassifier(random_state=123),param_grid1_rf,cv=5,scoring='accuracy')"
      ],
      "execution_count": null,
      "outputs": []
    },
    {
      "cell_type": "code",
      "metadata": {
        "colab": {
          "base_uri": "https://localhost:8080/"
        },
        "id": "YMtq5Dh8D2h_",
        "outputId": "9eaada35-4065-4cbe-a17a-a1715c59e4c1"
      },
      "source": [
        "model_rf.fit(x_train,y_train)"
      ],
      "execution_count": null,
      "outputs": [
        {
          "output_type": "execute_result",
          "data": {
            "text/plain": [
              "GridSearchCV(cv=5, error_score=nan,\n",
              "             estimator=RandomForestClassifier(bootstrap=True, ccp_alpha=0.0,\n",
              "                                              class_weight=None,\n",
              "                                              criterion='gini', max_depth=None,\n",
              "                                              max_features='auto',\n",
              "                                              max_leaf_nodes=None,\n",
              "                                              max_samples=None,\n",
              "                                              min_impurity_decrease=0.0,\n",
              "                                              min_impurity_split=None,\n",
              "                                              min_samples_leaf=1,\n",
              "                                              min_samples_split=2,\n",
              "                                              min_weight_fraction_leaf=0.0,\n",
              "                                              n_estimators=100, n_jobs=None,\n",
              "                                              oob_score=False, random_state=123,\n",
              "                                              verbose=0, warm_start=False),\n",
              "             iid='deprecated', n_jobs=None,\n",
              "             param_grid=[{'bootstrap': [True, False],\n",
              "                          'max_depth': [10, 20, 30, 40, 50, 60, 70, 80, 90, 100,\n",
              "                                        None],\n",
              "                          'max_features': ['auto', 'sqrt'],\n",
              "                          'min_samples_leaf': [1, 2, 4],\n",
              "                          'min_samples_split': [2, 5, 10],\n",
              "                          'n_estimators': [200]}],\n",
              "             pre_dispatch='2*n_jobs', refit=True, return_train_score=False,\n",
              "             scoring='accuracy', verbose=0)"
            ]
          },
          "metadata": {
            "tags": []
          },
          "execution_count": 15
        }
      ]
    },
    {
      "cell_type": "code",
      "metadata": {
        "colab": {
          "base_uri": "https://localhost:8080/"
        },
        "id": "f_25s1a054sq",
        "outputId": "697b9897-004c-4904-be61-40e72c635d8d"
      },
      "source": [
        "model_rf.best_params_"
      ],
      "execution_count": null,
      "outputs": [
        {
          "output_type": "execute_result",
          "data": {
            "text/plain": [
              "{'bootstrap': True,\n",
              " 'max_depth': 20,\n",
              " 'max_features': 'auto',\n",
              " 'min_samples_leaf': 2,\n",
              " 'min_samples_split': 5,\n",
              " 'n_estimators': 200}"
            ]
          },
          "metadata": {
            "tags": []
          },
          "execution_count": 16
        }
      ]
    },
    {
      "cell_type": "code",
      "metadata": {
        "id": "MhKVNrUd6Er0"
      },
      "source": [
        "rf1=RandomForestClassifier(bootstrap=True, max_depth=20, max_features='auto', min_samples_leaf=2, min_samples_split=5, n_estimators=200, random_state=123)"
      ],
      "execution_count": null,
      "outputs": []
    },
    {
      "cell_type": "code",
      "metadata": {
        "colab": {
          "base_uri": "https://localhost:8080/"
        },
        "id": "LgYB8LxR6Uv-",
        "outputId": "339c8721-4e7e-43e8-f3a3-621e4022da6c"
      },
      "source": [
        "rf1.fit(x_train,y_train)"
      ],
      "execution_count": null,
      "outputs": [
        {
          "output_type": "execute_result",
          "data": {
            "text/plain": [
              "RandomForestClassifier(bootstrap=True, ccp_alpha=0.0, class_weight=None,\n",
              "                       criterion='gini', max_depth=20, max_features='auto',\n",
              "                       max_leaf_nodes=None, max_samples=None,\n",
              "                       min_impurity_decrease=0.0, min_impurity_split=None,\n",
              "                       min_samples_leaf=2, min_samples_split=5,\n",
              "                       min_weight_fraction_leaf=0.0, n_estimators=200,\n",
              "                       n_jobs=None, oob_score=False, random_state=123,\n",
              "                       verbose=0, warm_start=False)"
            ]
          },
          "metadata": {
            "tags": []
          },
          "execution_count": 18
        }
      ]
    },
    {
      "cell_type": "code",
      "metadata": {
        "id": "EP5rDp4e8IzO"
      },
      "source": [
        "rf1_pred=rf1.predict(x_val)"
      ],
      "execution_count": null,
      "outputs": []
    },
    {
      "cell_type": "code",
      "metadata": {
        "colab": {
          "base_uri": "https://localhost:8080/"
        },
        "id": "-CUwcbki8Uhq",
        "outputId": "a48a281a-3c43-4705-c828-577f7eb4675c"
      },
      "source": [
        "print(confusion_matrix(y_val,rf1_pred))"
      ],
      "execution_count": null,
      "outputs": [
        {
          "output_type": "stream",
          "text": [
            "[[5418  166]\n",
            " [ 382  364]]\n"
          ],
          "name": "stdout"
        }
      ]
    },
    {
      "cell_type": "code",
      "metadata": {
        "colab": {
          "base_uri": "https://localhost:8080/"
        },
        "id": "s0qspdjm8eV2",
        "outputId": "a0b472a8-ae7e-49cc-c22e-2bb02ebca279"
      },
      "source": [
        "print(classification_report(y_val,rf1_pred))"
      ],
      "execution_count": null,
      "outputs": [
        {
          "output_type": "stream",
          "text": [
            "              precision    recall  f1-score   support\n",
            "\n",
            "           0       0.93      0.97      0.95      5584\n",
            "           1       0.69      0.49      0.57       746\n",
            "\n",
            "    accuracy                           0.91      6330\n",
            "   macro avg       0.81      0.73      0.76      6330\n",
            "weighted avg       0.90      0.91      0.91      6330\n",
            "\n"
          ],
          "name": "stdout"
        }
      ]
    },
    {
      "cell_type": "code",
      "metadata": {
        "id": "5g_9hOBa8k7Y"
      },
      "source": [
        "from sklearn.svm import SVC\n",
        "param_grid_svm=[{'kernel':['rbf'],'gamma':[1e-3,1e-4],'C':[1.0,10.0,100.0,1000.0]},\n",
        "                   {'kernel':['linear'],'C':[1.0,10.0,100.0,1000.0]},\n",
        "                   {'kernel':['rbf','linear','poly','sigmoid'],'gamma':[1e-3,1e-4],'C':[1.0,10.0,100.0,1000.0]}]"
      ],
      "execution_count": null,
      "outputs": []
    },
    {
      "cell_type": "code",
      "metadata": {
        "id": "hnRN5mz9QN6H"
      },
      "source": [
        "from sklearn.preprocessing import StandardScaler"
      ],
      "execution_count": null,
      "outputs": []
    },
    {
      "cell_type": "code",
      "metadata": {
        "colab": {
          "base_uri": "https://localhost:8080/"
        },
        "id": "agKV_shKQg6w",
        "outputId": "a3567f26-2b9d-4cdb-b9f0-c206519cf5d9"
      },
      "source": [
        "scaler = StandardScaler()  \n",
        "scaler.fit(x_train)"
      ],
      "execution_count": null,
      "outputs": [
        {
          "output_type": "execute_result",
          "data": {
            "text/plain": [
              "StandardScaler(copy=True, with_mean=True, with_std=True)"
            ]
          },
          "metadata": {
            "tags": []
          },
          "execution_count": 17
        }
      ]
    },
    {
      "cell_type": "code",
      "metadata": {
        "id": "dbCZAR9GQhE-"
      },
      "source": [
        "x_train_tf = scaler.transform(x_train)  \n",
        "x_test_tf = scaler.transform(x_test) \n",
        "x_val_tf = scaler.transform(x_val) "
      ],
      "execution_count": null,
      "outputs": []
    },
    {
      "cell_type": "code",
      "metadata": {
        "id": "OyqZTyuiPzVp"
      },
      "source": [
        "model_SVC1=SVC()"
      ],
      "execution_count": null,
      "outputs": []
    },
    {
      "cell_type": "code",
      "metadata": {
        "colab": {
          "base_uri": "https://localhost:8080/"
        },
        "id": "Pi2nggV6PzhE",
        "outputId": "f7364680-2859-44c8-d0ea-a892ed72c59b"
      },
      "source": [
        "model_SVC1.fit(x_train_tf,y_train)"
      ],
      "execution_count": null,
      "outputs": [
        {
          "output_type": "execute_result",
          "data": {
            "text/plain": [
              "SVC(C=1.0, break_ties=False, cache_size=200, class_weight=None, coef0=0.0,\n",
              "    decision_function_shape='ovr', degree=3, gamma='scale', kernel='rbf',\n",
              "    max_iter=-1, probability=False, random_state=None, shrinking=True,\n",
              "    tol=0.001, verbose=False)"
            ]
          },
          "metadata": {
            "tags": []
          },
          "execution_count": 17
        }
      ]
    },
    {
      "cell_type": "code",
      "metadata": {
        "id": "m6eCHG9FRxcK"
      },
      "source": [
        "SVC1_pred=model_SVC1.predict(x_val_tf)"
      ],
      "execution_count": null,
      "outputs": []
    },
    {
      "cell_type": "code",
      "metadata": {
        "colab": {
          "base_uri": "https://localhost:8080/"
        },
        "id": "Nsw1N-_5SMm6",
        "outputId": "1a423608-cc25-4127-e3a7-49d625085e19"
      },
      "source": [
        "print(classification_report(y_val,SVC1_pred))"
      ],
      "execution_count": null,
      "outputs": [
        {
          "output_type": "stream",
          "text": [
            "              precision    recall  f1-score   support\n",
            "\n",
            "           0       0.91      0.98      0.94      5584\n",
            "           1       0.67      0.28      0.40       746\n",
            "\n",
            "    accuracy                           0.90      6330\n",
            "   macro avg       0.79      0.63      0.67      6330\n",
            "weighted avg       0.88      0.90      0.88      6330\n",
            "\n"
          ],
          "name": "stdout"
        }
      ]
    },
    {
      "cell_type": "code",
      "metadata": {
        "id": "LPCR2ICySpVe"
      },
      "source": [
        "model_SVC2=SVC(kernel='linear')"
      ],
      "execution_count": null,
      "outputs": []
    },
    {
      "cell_type": "code",
      "metadata": {
        "colab": {
          "base_uri": "https://localhost:8080/"
        },
        "id": "prB5Uy60SufC",
        "outputId": "ed9190d8-77a9-4767-e4e2-9d3644c13a93"
      },
      "source": [
        "model_SVC2.fit(x_train_tf,y_train)"
      ],
      "execution_count": null,
      "outputs": [
        {
          "output_type": "execute_result",
          "data": {
            "text/plain": [
              "SVC(C=1.0, break_ties=False, cache_size=200, class_weight=None, coef0=0.0,\n",
              "    decision_function_shape='ovr', degree=3, gamma='scale', kernel='linear',\n",
              "    max_iter=-1, probability=False, random_state=None, shrinking=True,\n",
              "    tol=0.001, verbose=False)"
            ]
          },
          "metadata": {
            "tags": []
          },
          "execution_count": 23
        }
      ]
    },
    {
      "cell_type": "code",
      "metadata": {
        "id": "PHqsKks0Sumj"
      },
      "source": [
        "SVC2_pred=model_SVC2.predict(x_val_tf)"
      ],
      "execution_count": null,
      "outputs": []
    },
    {
      "cell_type": "code",
      "metadata": {
        "colab": {
          "base_uri": "https://localhost:8080/"
        },
        "id": "_nQTNz4XSusw",
        "outputId": "8afd0292-f429-420b-dc47-223ca795faed"
      },
      "source": [
        "print(classification_report(y_val,SVC2_pred))"
      ],
      "execution_count": null,
      "outputs": [
        {
          "output_type": "stream",
          "text": [
            "              precision    recall  f1-score   support\n",
            "\n",
            "           0       0.90      0.99      0.94      5584\n",
            "           1       0.64      0.15      0.25       746\n",
            "\n",
            "    accuracy                           0.89      6330\n",
            "   macro avg       0.77      0.57      0.59      6330\n",
            "weighted avg       0.87      0.89      0.86      6330\n",
            "\n"
          ],
          "name": "stdout"
        }
      ]
    },
    {
      "cell_type": "code",
      "metadata": {
        "id": "_cQNdfKHTDQf"
      },
      "source": [
        "model_SVC3=SVC(kernel='poly')"
      ],
      "execution_count": null,
      "outputs": []
    },
    {
      "cell_type": "code",
      "metadata": {
        "colab": {
          "base_uri": "https://localhost:8080/"
        },
        "id": "suzDSTqgTGvE",
        "outputId": "ee20f304-4cb0-479f-896f-30b5c70192bb"
      },
      "source": [
        "model_SVC3.fit(x_train_tf,y_train)"
      ],
      "execution_count": null,
      "outputs": [
        {
          "output_type": "execute_result",
          "data": {
            "text/plain": [
              "SVC(C=1.0, break_ties=False, cache_size=200, class_weight=None, coef0=0.0,\n",
              "    decision_function_shape='ovr', degree=3, gamma='scale', kernel='poly',\n",
              "    max_iter=-1, probability=False, random_state=None, shrinking=True,\n",
              "    tol=0.001, verbose=False)"
            ]
          },
          "metadata": {
            "tags": []
          },
          "execution_count": 27
        }
      ]
    },
    {
      "cell_type": "code",
      "metadata": {
        "id": "So6kcWVnTG2j"
      },
      "source": [
        "SVC3_pred=model_SVC3.predict(x_val_tf)"
      ],
      "execution_count": null,
      "outputs": []
    },
    {
      "cell_type": "code",
      "metadata": {
        "colab": {
          "base_uri": "https://localhost:8080/"
        },
        "id": "bwkGSgxTTG9g",
        "outputId": "df4a3d9f-201e-4ee9-e225-b1aea297beee"
      },
      "source": [
        "print(classification_report(y_val,SVC3_pred))"
      ],
      "execution_count": null,
      "outputs": [
        {
          "output_type": "stream",
          "text": [
            "              precision    recall  f1-score   support\n",
            "\n",
            "           0       0.91      0.98      0.95      5584\n",
            "           1       0.69      0.29      0.41       746\n",
            "\n",
            "    accuracy                           0.90      6330\n",
            "   macro avg       0.80      0.64      0.68      6330\n",
            "weighted avg       0.89      0.90      0.88      6330\n",
            "\n"
          ],
          "name": "stdout"
        }
      ]
    },
    {
      "cell_type": "code",
      "metadata": {
        "id": "YtW3gSSETkUt"
      },
      "source": [
        "model_SVC4=SVC(C=1, gamma='scale', kernel='rbf')"
      ],
      "execution_count": null,
      "outputs": []
    },
    {
      "cell_type": "code",
      "metadata": {
        "id": "qJnwZOJQTkc2",
        "colab": {
          "base_uri": "https://localhost:8080/"
        },
        "outputId": "53a7c67b-8b20-4066-920a-3be6b908d99e"
      },
      "source": [
        "model_SVC4.fit(x_train_tf,y_train)"
      ],
      "execution_count": null,
      "outputs": [
        {
          "output_type": "execute_result",
          "data": {
            "text/plain": [
              "SVC(C=1, break_ties=False, cache_size=200, class_weight=None, coef0=0.0,\n",
              "    decision_function_shape='ovr', degree=3, gamma='scale', kernel='rbf',\n",
              "    max_iter=-1, probability=False, random_state=None, shrinking=True,\n",
              "    tol=0.001, verbose=False)"
            ]
          },
          "metadata": {
            "tags": []
          },
          "execution_count": 20
        }
      ]
    },
    {
      "cell_type": "code",
      "metadata": {
        "id": "anpKw602Tkh6"
      },
      "source": [
        "SVC4_pred=model_SVC4.predict(x_val_tf)"
      ],
      "execution_count": null,
      "outputs": []
    },
    {
      "cell_type": "code",
      "metadata": {
        "colab": {
          "base_uri": "https://localhost:8080/"
        },
        "id": "ahqQyPRETka5",
        "outputId": "0a1c6dd5-514e-46ac-d47f-24677f39e24f"
      },
      "source": [
        "print(classification_report(y_val,SVC4_pred))"
      ],
      "execution_count": null,
      "outputs": [
        {
          "output_type": "stream",
          "text": [
            "              precision    recall  f1-score   support\n",
            "\n",
            "           0       0.91      0.98      0.94      5584\n",
            "           1       0.67      0.28      0.40       746\n",
            "\n",
            "    accuracy                           0.90      6330\n",
            "   macro avg       0.79      0.63      0.67      6330\n",
            "weighted avg       0.88      0.90      0.88      6330\n",
            "\n"
          ],
          "name": "stdout"
        }
      ]
    },
    {
      "cell_type": "code",
      "metadata": {
        "id": "SUh2QtXm414u"
      },
      "source": [
        "model_SVC5=SVC(C=10, gamma='scale', kernel='rbf')"
      ],
      "execution_count": null,
      "outputs": []
    },
    {
      "cell_type": "code",
      "metadata": {
        "colab": {
          "base_uri": "https://localhost:8080/"
        },
        "id": "WZ_3kVbb42FR",
        "outputId": "c57f8e23-10f3-4787-86c8-f9777d3d38a1"
      },
      "source": [
        "model_SVC5.fit(x_train_tf,y_train)"
      ],
      "execution_count": null,
      "outputs": [
        {
          "output_type": "execute_result",
          "data": {
            "text/plain": [
              "SVC(C=10, break_ties=False, cache_size=200, class_weight=None, coef0=0.0,\n",
              "    decision_function_shape='ovr', degree=3, gamma='scale', kernel='rbf',\n",
              "    max_iter=-1, probability=False, random_state=None, shrinking=True,\n",
              "    tol=0.001, verbose=False)"
            ]
          },
          "metadata": {
            "tags": []
          },
          "execution_count": 24
        }
      ]
    },
    {
      "cell_type": "code",
      "metadata": {
        "id": "W4kxvR5Z42RO"
      },
      "source": [
        "SVC5_pred=model_SVC5.predict(x_val_tf)"
      ],
      "execution_count": null,
      "outputs": []
    },
    {
      "cell_type": "code",
      "metadata": {
        "colab": {
          "base_uri": "https://localhost:8080/"
        },
        "id": "W-yom24H5HlK",
        "outputId": "a85838c3-e97d-45df-df38-9bcabe291e68"
      },
      "source": [
        "print(classification_report(y_val,SVC5_pred))"
      ],
      "execution_count": null,
      "outputs": [
        {
          "output_type": "stream",
          "text": [
            "              precision    recall  f1-score   support\n",
            "\n",
            "           0       0.92      0.97      0.95      5584\n",
            "           1       0.65      0.39      0.49       746\n",
            "\n",
            "    accuracy                           0.90      6330\n",
            "   macro avg       0.79      0.68      0.72      6330\n",
            "weighted avg       0.89      0.90      0.89      6330\n",
            "\n"
          ],
          "name": "stdout"
        }
      ]
    },
    {
      "cell_type": "code",
      "metadata": {
        "id": "ZZZ_K5uKfgMT"
      },
      "source": [
        "param_grid1={'C': [0.1,1, 10, 100, 1000], 'gamma': [1,0.1,0.01,0.001,0.0001,'scale','auto'],'kernel':['poly','sigmoid','rbf']}"
      ],
      "execution_count": null,
      "outputs": []
    },
    {
      "cell_type": "code",
      "metadata": {
        "id": "KFHi5wUWfnM2"
      },
      "source": [
        "from sklearn.model_selection import GridSearchCV"
      ],
      "execution_count": null,
      "outputs": []
    },
    {
      "cell_type": "code",
      "metadata": {
        "id": "XjPBwQPPfrt5"
      },
      "source": [
        "grid = GridSearchCV(SVC(),param_grid1,cv=3,refit=True,verbose=3)"
      ],
      "execution_count": null,
      "outputs": []
    },
    {
      "cell_type": "code",
      "metadata": {
        "colab": {
          "base_uri": "https://localhost:8080/"
        },
        "id": "Rmz9tfdcf1iz",
        "outputId": "b95fdcc2-7192-41e6-bc09-c50017574d90"
      },
      "source": [
        "grid.fit(x_train_tf,y_train)"
      ],
      "execution_count": null,
      "outputs": [
        {
          "output_type": "stream",
          "text": [
            "Fitting 3 folds for each of 105 candidates, totalling 315 fits\n",
            "[CV] C=0.1, gamma=1, kernel=poly .....................................\n"
          ],
          "name": "stdout"
        },
        {
          "output_type": "stream",
          "text": [
            "[Parallel(n_jobs=1)]: Using backend SequentialBackend with 1 concurrent workers.\n"
          ],
          "name": "stderr"
        },
        {
          "output_type": "stream",
          "text": [
            "[CV] ......... C=0.1, gamma=1, kernel=poly, score=0.879, total= 4.3min\n",
            "[CV] C=0.1, gamma=1, kernel=poly .....................................\n"
          ],
          "name": "stdout"
        },
        {
          "output_type": "stream",
          "text": [
            "[Parallel(n_jobs=1)]: Done   1 out of   1 | elapsed:  4.3min remaining:    0.0s\n"
          ],
          "name": "stderr"
        },
        {
          "output_type": "stream",
          "text": [
            "[CV] ......... C=0.1, gamma=1, kernel=poly, score=0.879, total= 3.2min\n",
            "[CV] C=0.1, gamma=1, kernel=poly .....................................\n"
          ],
          "name": "stdout"
        },
        {
          "output_type": "stream",
          "text": [
            "[Parallel(n_jobs=1)]: Done   2 out of   2 | elapsed:  7.5min remaining:    0.0s\n"
          ],
          "name": "stderr"
        },
        {
          "output_type": "stream",
          "text": [
            "[CV] ......... C=0.1, gamma=1, kernel=poly, score=0.881, total= 2.9min\n",
            "[CV] C=0.1, gamma=1, kernel=sigmoid ..................................\n",
            "[CV] ...... C=0.1, gamma=1, kernel=sigmoid, score=0.821, total=   3.9s\n",
            "[CV] C=0.1, gamma=1, kernel=sigmoid ..................................\n",
            "[CV] ...... C=0.1, gamma=1, kernel=sigmoid, score=0.834, total=   3.6s\n",
            "[CV] C=0.1, gamma=1, kernel=sigmoid ..................................\n",
            "[CV] ...... C=0.1, gamma=1, kernel=sigmoid, score=0.835, total=   3.9s\n",
            "[CV] C=0.1, gamma=1, kernel=rbf ......................................\n",
            "[CV] .......... C=0.1, gamma=1, kernel=rbf, score=0.885, total=  18.4s\n",
            "[CV] C=0.1, gamma=1, kernel=rbf ......................................\n",
            "[CV] .......... C=0.1, gamma=1, kernel=rbf, score=0.885, total=  18.4s\n",
            "[CV] C=0.1, gamma=1, kernel=rbf ......................................\n",
            "[CV] .......... C=0.1, gamma=1, kernel=rbf, score=0.885, total=  18.3s\n",
            "[CV] C=0.1, gamma=0.1, kernel=poly ...................................\n",
            "[CV] ....... C=0.1, gamma=0.1, kernel=poly, score=0.900, total=   3.0s\n",
            "[CV] C=0.1, gamma=0.1, kernel=poly ...................................\n",
            "[CV] ....... C=0.1, gamma=0.1, kernel=poly, score=0.898, total=   2.7s\n",
            "[CV] C=0.1, gamma=0.1, kernel=poly ...................................\n",
            "[CV] ....... C=0.1, gamma=0.1, kernel=poly, score=0.896, total=   2.7s\n",
            "[CV] C=0.1, gamma=0.1, kernel=sigmoid ................................\n",
            "[CV] .... C=0.1, gamma=0.1, kernel=sigmoid, score=0.852, total=   4.2s\n",
            "[CV] C=0.1, gamma=0.1, kernel=sigmoid ................................\n",
            "[CV] .... C=0.1, gamma=0.1, kernel=sigmoid, score=0.860, total=   3.6s\n",
            "[CV] C=0.1, gamma=0.1, kernel=sigmoid ................................\n",
            "[CV] .... C=0.1, gamma=0.1, kernel=sigmoid, score=0.851, total=   4.1s\n",
            "[CV] C=0.1, gamma=0.1, kernel=rbf ....................................\n",
            "[CV] ........ C=0.1, gamma=0.1, kernel=rbf, score=0.885, total=   4.2s\n",
            "[CV] C=0.1, gamma=0.1, kernel=rbf ....................................\n",
            "[CV] ........ C=0.1, gamma=0.1, kernel=rbf, score=0.885, total=   4.3s\n",
            "[CV] C=0.1, gamma=0.1, kernel=rbf ....................................\n",
            "[CV] ........ C=0.1, gamma=0.1, kernel=rbf, score=0.885, total=   4.2s\n",
            "[CV] C=0.1, gamma=0.01, kernel=poly ..................................\n",
            "[CV] ...... C=0.1, gamma=0.01, kernel=poly, score=0.885, total=   2.2s\n",
            "[CV] C=0.1, gamma=0.01, kernel=poly ..................................\n",
            "[CV] ...... C=0.1, gamma=0.01, kernel=poly, score=0.884, total=   2.1s\n",
            "[CV] C=0.1, gamma=0.01, kernel=poly ..................................\n",
            "[CV] ...... C=0.1, gamma=0.01, kernel=poly, score=0.885, total=   2.2s\n",
            "[CV] C=0.1, gamma=0.01, kernel=sigmoid ...............................\n",
            "[CV] ... C=0.1, gamma=0.01, kernel=sigmoid, score=0.885, total=   3.4s\n",
            "[CV] C=0.1, gamma=0.01, kernel=sigmoid ...............................\n",
            "[CV] ... C=0.1, gamma=0.01, kernel=sigmoid, score=0.884, total=   3.6s\n",
            "[CV] C=0.1, gamma=0.01, kernel=sigmoid ...............................\n",
            "[CV] ... C=0.1, gamma=0.01, kernel=sigmoid, score=0.884, total=   3.6s\n",
            "[CV] C=0.1, gamma=0.01, kernel=rbf ...................................\n",
            "[CV] ....... C=0.1, gamma=0.01, kernel=rbf, score=0.885, total=   3.3s\n",
            "[CV] C=0.1, gamma=0.01, kernel=rbf ...................................\n",
            "[CV] ....... C=0.1, gamma=0.01, kernel=rbf, score=0.885, total=   3.3s\n",
            "[CV] C=0.1, gamma=0.01, kernel=rbf ...................................\n",
            "[CV] ....... C=0.1, gamma=0.01, kernel=rbf, score=0.885, total=   3.3s\n",
            "[CV] C=0.1, gamma=0.001, kernel=poly .................................\n",
            "[CV] ..... C=0.1, gamma=0.001, kernel=poly, score=0.885, total=   1.8s\n",
            "[CV] C=0.1, gamma=0.001, kernel=poly .................................\n",
            "[CV] ..... C=0.1, gamma=0.001, kernel=poly, score=0.885, total=   1.8s\n",
            "[CV] C=0.1, gamma=0.001, kernel=poly .................................\n",
            "[CV] ..... C=0.1, gamma=0.001, kernel=poly, score=0.885, total=   1.8s\n",
            "[CV] C=0.1, gamma=0.001, kernel=sigmoid ..............................\n",
            "[CV] .. C=0.1, gamma=0.001, kernel=sigmoid, score=0.885, total=   3.3s\n",
            "[CV] C=0.1, gamma=0.001, kernel=sigmoid ..............................\n",
            "[CV] .. C=0.1, gamma=0.001, kernel=sigmoid, score=0.885, total=   3.2s\n",
            "[CV] C=0.1, gamma=0.001, kernel=sigmoid ..............................\n",
            "[CV] .. C=0.1, gamma=0.001, kernel=sigmoid, score=0.885, total=   3.4s\n",
            "[CV] C=0.1, gamma=0.001, kernel=rbf ..................................\n",
            "[CV] ...... C=0.1, gamma=0.001, kernel=rbf, score=0.885, total=   3.3s\n",
            "[CV] C=0.1, gamma=0.001, kernel=rbf ..................................\n",
            "[CV] ...... C=0.1, gamma=0.001, kernel=rbf, score=0.885, total=   3.3s\n",
            "[CV] C=0.1, gamma=0.001, kernel=rbf ..................................\n",
            "[CV] ...... C=0.1, gamma=0.001, kernel=rbf, score=0.885, total=   3.3s\n",
            "[CV] C=0.1, gamma=0.0001, kernel=poly ................................\n",
            "[CV] .... C=0.1, gamma=0.0001, kernel=poly, score=0.885, total=   1.8s\n",
            "[CV] C=0.1, gamma=0.0001, kernel=poly ................................\n",
            "[CV] .... C=0.1, gamma=0.0001, kernel=poly, score=0.885, total=   1.8s\n",
            "[CV] C=0.1, gamma=0.0001, kernel=poly ................................\n",
            "[CV] .... C=0.1, gamma=0.0001, kernel=poly, score=0.885, total=   1.8s\n",
            "[CV] C=0.1, gamma=0.0001, kernel=sigmoid .............................\n",
            "[CV] . C=0.1, gamma=0.0001, kernel=sigmoid, score=0.885, total=   3.2s\n",
            "[CV] C=0.1, gamma=0.0001, kernel=sigmoid .............................\n",
            "[CV] . C=0.1, gamma=0.0001, kernel=sigmoid, score=0.885, total=   3.2s\n",
            "[CV] C=0.1, gamma=0.0001, kernel=sigmoid .............................\n",
            "[CV] . C=0.1, gamma=0.0001, kernel=sigmoid, score=0.885, total=   3.1s\n",
            "[CV] C=0.1, gamma=0.0001, kernel=rbf .................................\n",
            "[CV] ..... C=0.1, gamma=0.0001, kernel=rbf, score=0.885, total=   3.3s\n",
            "[CV] C=0.1, gamma=0.0001, kernel=rbf .................................\n",
            "[CV] ..... C=0.1, gamma=0.0001, kernel=rbf, score=0.885, total=   3.3s\n",
            "[CV] C=0.1, gamma=0.0001, kernel=rbf .................................\n",
            "[CV] ..... C=0.1, gamma=0.0001, kernel=rbf, score=0.885, total=   3.3s\n",
            "[CV] C=0.1, gamma=scale, kernel=poly .................................\n",
            "[CV] ..... C=0.1, gamma=scale, kernel=poly, score=0.890, total=   2.4s\n",
            "[CV] C=0.1, gamma=scale, kernel=poly .................................\n",
            "[CV] ..... C=0.1, gamma=scale, kernel=poly, score=0.888, total=   2.3s\n",
            "[CV] C=0.1, gamma=scale, kernel=poly .................................\n",
            "[CV] ..... C=0.1, gamma=scale, kernel=poly, score=0.890, total=   2.3s\n",
            "[CV] C=0.1, gamma=scale, kernel=sigmoid ..............................\n",
            "[CV] .. C=0.1, gamma=scale, kernel=sigmoid, score=0.885, total=   3.5s\n",
            "[CV] C=0.1, gamma=scale, kernel=sigmoid ..............................\n",
            "[CV] .. C=0.1, gamma=scale, kernel=sigmoid, score=0.881, total=   4.1s\n",
            "[CV] C=0.1, gamma=scale, kernel=sigmoid ..............................\n",
            "[CV] .. C=0.1, gamma=scale, kernel=sigmoid, score=0.882, total=   3.5s\n",
            "[CV] C=0.1, gamma=scale, kernel=rbf ..................................\n",
            "[CV] ...... C=0.1, gamma=scale, kernel=rbf, score=0.886, total=   3.4s\n",
            "[CV] C=0.1, gamma=scale, kernel=rbf ..................................\n",
            "[CV] ...... C=0.1, gamma=scale, kernel=rbf, score=0.887, total=   3.4s\n",
            "[CV] C=0.1, gamma=scale, kernel=rbf ..................................\n",
            "[CV] ...... C=0.1, gamma=scale, kernel=rbf, score=0.887, total=   3.4s\n",
            "[CV] C=0.1, gamma=auto, kernel=poly ..................................\n",
            "[CV] ...... C=0.1, gamma=auto, kernel=poly, score=0.890, total=   2.4s\n",
            "[CV] C=0.1, gamma=auto, kernel=poly ..................................\n",
            "[CV] ...... C=0.1, gamma=auto, kernel=poly, score=0.888, total=   2.2s\n",
            "[CV] C=0.1, gamma=auto, kernel=poly ..................................\n",
            "[CV] ...... C=0.1, gamma=auto, kernel=poly, score=0.889, total=   2.3s\n",
            "[CV] C=0.1, gamma=auto, kernel=sigmoid ...............................\n",
            "[CV] ... C=0.1, gamma=auto, kernel=sigmoid, score=0.885, total=   3.6s\n",
            "[CV] C=0.1, gamma=auto, kernel=sigmoid ...............................\n",
            "[CV] ... C=0.1, gamma=auto, kernel=sigmoid, score=0.881, total=   4.1s\n",
            "[CV] C=0.1, gamma=auto, kernel=sigmoid ...............................\n",
            "[CV] ... C=0.1, gamma=auto, kernel=sigmoid, score=0.882, total=   3.5s\n",
            "[CV] C=0.1, gamma=auto, kernel=rbf ...................................\n",
            "[CV] ....... C=0.1, gamma=auto, kernel=rbf, score=0.886, total=   3.5s\n",
            "[CV] C=0.1, gamma=auto, kernel=rbf ...................................\n",
            "[CV] ....... C=0.1, gamma=auto, kernel=rbf, score=0.887, total=   3.5s\n",
            "[CV] C=0.1, gamma=auto, kernel=rbf ...................................\n",
            "[CV] ....... C=0.1, gamma=auto, kernel=rbf, score=0.887, total=   3.4s\n",
            "[CV] C=1, gamma=1, kernel=poly .......................................\n",
            "[CV] ........... C=1, gamma=1, kernel=poly, score=0.873, total=30.4min\n",
            "[CV] C=1, gamma=1, kernel=poly .......................................\n",
            "[CV] ........... C=1, gamma=1, kernel=poly, score=0.874, total=37.5min\n",
            "[CV] C=1, gamma=1, kernel=poly .......................................\n",
            "[CV] ........... C=1, gamma=1, kernel=poly, score=0.873, total=38.3min\n",
            "[CV] C=1, gamma=1, kernel=sigmoid ....................................\n",
            "[CV] ........ C=1, gamma=1, kernel=sigmoid, score=0.817, total=   4.0s\n",
            "[CV] C=1, gamma=1, kernel=sigmoid ....................................\n",
            "[CV] ........ C=1, gamma=1, kernel=sigmoid, score=0.830, total=   3.7s\n",
            "[CV] C=1, gamma=1, kernel=sigmoid ....................................\n",
            "[CV] ........ C=1, gamma=1, kernel=sigmoid, score=0.832, total=   3.8s\n",
            "[CV] C=1, gamma=1, kernel=rbf ........................................\n",
            "[CV] ............ C=1, gamma=1, kernel=rbf, score=0.885, total=  24.9s\n",
            "[CV] C=1, gamma=1, kernel=rbf ........................................\n",
            "[CV] ............ C=1, gamma=1, kernel=rbf, score=0.885, total=  24.3s\n",
            "[CV] C=1, gamma=1, kernel=rbf ........................................\n",
            "[CV] ............ C=1, gamma=1, kernel=rbf, score=0.885, total=  24.3s\n",
            "[CV] C=1, gamma=0.1, kernel=poly .....................................\n",
            "[CV] ......... C=1, gamma=0.1, kernel=poly, score=0.896, total=   5.3s\n",
            "[CV] C=1, gamma=0.1, kernel=poly .....................................\n",
            "[CV] ......... C=1, gamma=0.1, kernel=poly, score=0.897, total=   5.2s\n",
            "[CV] C=1, gamma=0.1, kernel=poly .....................................\n",
            "[CV] ......... C=1, gamma=0.1, kernel=poly, score=0.894, total=   5.3s\n",
            "[CV] C=1, gamma=0.1, kernel=sigmoid ..................................\n",
            "[CV] ...... C=1, gamma=0.1, kernel=sigmoid, score=0.838, total=   3.8s\n",
            "[CV] C=1, gamma=0.1, kernel=sigmoid ..................................\n",
            "[CV] ...... C=1, gamma=0.1, kernel=sigmoid, score=0.848, total=   3.8s\n",
            "[CV] C=1, gamma=0.1, kernel=sigmoid ..................................\n",
            "[CV] ...... C=1, gamma=0.1, kernel=sigmoid, score=0.838, total=   3.8s\n",
            "[CV] C=1, gamma=0.1, kernel=rbf ......................................\n",
            "[CV] .......... C=1, gamma=0.1, kernel=rbf, score=0.901, total=   4.4s\n",
            "[CV] C=1, gamma=0.1, kernel=rbf ......................................\n",
            "[CV] .......... C=1, gamma=0.1, kernel=rbf, score=0.902, total=   4.5s\n",
            "[CV] C=1, gamma=0.1, kernel=rbf ......................................\n",
            "[CV] .......... C=1, gamma=0.1, kernel=rbf, score=0.899, total=   4.4s\n",
            "[CV] C=1, gamma=0.01, kernel=poly ....................................\n",
            "[CV] ........ C=1, gamma=0.01, kernel=poly, score=0.885, total=   2.2s\n",
            "[CV] C=1, gamma=0.01, kernel=poly ....................................\n",
            "[CV] ........ C=1, gamma=0.01, kernel=poly, score=0.886, total=   2.4s\n",
            "[CV] C=1, gamma=0.01, kernel=poly ....................................\n",
            "[CV] ........ C=1, gamma=0.01, kernel=poly, score=0.884, total=   2.4s\n",
            "[CV] C=1, gamma=0.01, kernel=sigmoid .................................\n",
            "[CV] ..... C=1, gamma=0.01, kernel=sigmoid, score=0.891, total=   3.6s\n",
            "[CV] C=1, gamma=0.01, kernel=sigmoid .................................\n",
            "[CV] ..... C=1, gamma=0.01, kernel=sigmoid, score=0.887, total=   3.6s\n",
            "[CV] C=1, gamma=0.01, kernel=sigmoid .................................\n",
            "[CV] ..... C=1, gamma=0.01, kernel=sigmoid, score=0.889, total=   3.7s\n",
            "[CV] C=1, gamma=0.01, kernel=rbf .....................................\n",
            "[CV] ......... C=1, gamma=0.01, kernel=rbf, score=0.900, total=   3.4s\n",
            "[CV] C=1, gamma=0.01, kernel=rbf .....................................\n",
            "[CV] ......... C=1, gamma=0.01, kernel=rbf, score=0.898, total=   3.5s\n",
            "[CV] C=1, gamma=0.01, kernel=rbf .....................................\n",
            "[CV] ......... C=1, gamma=0.01, kernel=rbf, score=0.897, total=   3.5s\n",
            "[CV] C=1, gamma=0.001, kernel=poly ...................................\n",
            "[CV] ....... C=1, gamma=0.001, kernel=poly, score=0.885, total=   2.0s\n",
            "[CV] C=1, gamma=0.001, kernel=poly ...................................\n",
            "[CV] ....... C=1, gamma=0.001, kernel=poly, score=0.885, total=   2.0s\n",
            "[CV] C=1, gamma=0.001, kernel=poly ...................................\n",
            "[CV] ....... C=1, gamma=0.001, kernel=poly, score=0.885, total=   2.0s\n",
            "[CV] C=1, gamma=0.001, kernel=sigmoid ................................\n",
            "[CV] .... C=1, gamma=0.001, kernel=sigmoid, score=0.885, total=   3.5s\n",
            "[CV] C=1, gamma=0.001, kernel=sigmoid ................................\n",
            "[CV] .... C=1, gamma=0.001, kernel=sigmoid, score=0.884, total=   3.8s\n",
            "[CV] C=1, gamma=0.001, kernel=sigmoid ................................\n",
            "[CV] .... C=1, gamma=0.001, kernel=sigmoid, score=0.885, total=   3.7s\n",
            "[CV] C=1, gamma=0.001, kernel=rbf ....................................\n",
            "[CV] ........ C=1, gamma=0.001, kernel=rbf, score=0.885, total=   3.5s\n",
            "[CV] C=1, gamma=0.001, kernel=rbf ....................................\n",
            "[CV] ........ C=1, gamma=0.001, kernel=rbf, score=0.886, total=   3.6s\n",
            "[CV] C=1, gamma=0.001, kernel=rbf ....................................\n",
            "[CV] ........ C=1, gamma=0.001, kernel=rbf, score=0.887, total=   3.5s\n",
            "[CV] C=1, gamma=0.0001, kernel=poly ..................................\n",
            "[CV] ...... C=1, gamma=0.0001, kernel=poly, score=0.885, total=   1.9s\n",
            "[CV] C=1, gamma=0.0001, kernel=poly ..................................\n",
            "[CV] ...... C=1, gamma=0.0001, kernel=poly, score=0.885, total=   1.9s\n",
            "[CV] C=1, gamma=0.0001, kernel=poly ..................................\n",
            "[CV] ...... C=1, gamma=0.0001, kernel=poly, score=0.885, total=   1.9s\n",
            "[CV] C=1, gamma=0.0001, kernel=sigmoid ...............................\n",
            "[CV] ... C=1, gamma=0.0001, kernel=sigmoid, score=0.885, total=   3.3s\n",
            "[CV] C=1, gamma=0.0001, kernel=sigmoid ...............................\n",
            "[CV] ... C=1, gamma=0.0001, kernel=sigmoid, score=0.885, total=   3.4s\n",
            "[CV] C=1, gamma=0.0001, kernel=sigmoid ...............................\n",
            "[CV] ... C=1, gamma=0.0001, kernel=sigmoid, score=0.885, total=   3.3s\n",
            "[CV] C=1, gamma=0.0001, kernel=rbf ...................................\n",
            "[CV] ....... C=1, gamma=0.0001, kernel=rbf, score=0.885, total=   3.4s\n",
            "[CV] C=1, gamma=0.0001, kernel=rbf ...................................\n",
            "[CV] ....... C=1, gamma=0.0001, kernel=rbf, score=0.885, total=   3.5s\n",
            "[CV] C=1, gamma=0.0001, kernel=rbf ...................................\n",
            "[CV] ....... C=1, gamma=0.0001, kernel=rbf, score=0.885, total=   3.5s\n",
            "[CV] C=1, gamma=scale, kernel=poly ...................................\n",
            "[CV] ....... C=1, gamma=scale, kernel=poly, score=0.899, total=   2.7s\n",
            "[CV] C=1, gamma=scale, kernel=poly ...................................\n",
            "[CV] ....... C=1, gamma=scale, kernel=poly, score=0.895, total=   2.6s\n",
            "[CV] C=1, gamma=scale, kernel=poly ...................................\n",
            "[CV] ....... C=1, gamma=scale, kernel=poly, score=0.896, total=   2.6s\n",
            "[CV] C=1, gamma=scale, kernel=sigmoid ................................\n",
            "[CV] .... C=1, gamma=scale, kernel=sigmoid, score=0.854, total=   2.8s\n",
            "[CV] C=1, gamma=scale, kernel=sigmoid ................................\n",
            "[CV] .... C=1, gamma=scale, kernel=sigmoid, score=0.857, total=   3.1s\n",
            "[CV] C=1, gamma=scale, kernel=sigmoid ................................\n",
            "[CV] .... C=1, gamma=scale, kernel=sigmoid, score=0.851, total=   3.3s\n",
            "[CV] C=1, gamma=scale, kernel=rbf ....................................\n",
            "[CV] ........ C=1, gamma=scale, kernel=rbf, score=0.903, total=   3.6s\n",
            "[CV] C=1, gamma=scale, kernel=rbf ....................................\n",
            "[CV] ........ C=1, gamma=scale, kernel=rbf, score=0.904, total=   3.7s\n",
            "[CV] C=1, gamma=scale, kernel=rbf ....................................\n",
            "[CV] ........ C=1, gamma=scale, kernel=rbf, score=0.899, total=   3.6s\n",
            "[CV] C=1, gamma=auto, kernel=poly ....................................\n",
            "[CV] ........ C=1, gamma=auto, kernel=poly, score=0.899, total=   2.7s\n",
            "[CV] C=1, gamma=auto, kernel=poly ....................................\n",
            "[CV] ........ C=1, gamma=auto, kernel=poly, score=0.895, total=   2.6s\n",
            "[CV] C=1, gamma=auto, kernel=poly ....................................\n",
            "[CV] ........ C=1, gamma=auto, kernel=poly, score=0.896, total=   2.5s\n",
            "[CV] C=1, gamma=auto, kernel=sigmoid .................................\n",
            "[CV] ..... C=1, gamma=auto, kernel=sigmoid, score=0.853, total=   2.9s\n",
            "[CV] C=1, gamma=auto, kernel=sigmoid .................................\n",
            "[CV] ..... C=1, gamma=auto, kernel=sigmoid, score=0.857, total=   3.0s\n",
            "[CV] C=1, gamma=auto, kernel=sigmoid .................................\n",
            "[CV] ..... C=1, gamma=auto, kernel=sigmoid, score=0.851, total=   3.0s\n",
            "[CV] C=1, gamma=auto, kernel=rbf .....................................\n",
            "[CV] ......... C=1, gamma=auto, kernel=rbf, score=0.903, total=   3.6s\n",
            "[CV] C=1, gamma=auto, kernel=rbf .....................................\n",
            "[CV] ......... C=1, gamma=auto, kernel=rbf, score=0.904, total=   3.6s\n",
            "[CV] C=1, gamma=auto, kernel=rbf .....................................\n",
            "[CV] ......... C=1, gamma=auto, kernel=rbf, score=0.899, total=   3.5s\n",
            "[CV] C=10, gamma=1, kernel=poly ......................................\n",
            "[CV] ......... C=10, gamma=1, kernel=poly, score=0.873, total=297.7min\n",
            "[CV] C=10, gamma=1, kernel=poly ......................................\n"
          ],
          "name": "stdout"
        }
      ]
    },
    {
      "cell_type": "code",
      "metadata": {
        "id": "dAuyVYvP5d11"
      },
      "source": [
        "param_grid2={'C': [0.1,1, 10, 100, 1000], 'gamma': [1,0.1,0.01,0.001,0.0001,'scale','auto'],'kernel':['sigmoid','rbf']}"
      ],
      "execution_count": null,
      "outputs": []
    },
    {
      "cell_type": "code",
      "metadata": {
        "id": "5zkEH5bv5Qfa"
      },
      "source": [
        "grid2 = GridSearchCV(SVC(),param_grid2,cv=3,refit=True,verbose=3)"
      ],
      "execution_count": null,
      "outputs": []
    },
    {
      "cell_type": "code",
      "metadata": {
        "colab": {
          "base_uri": "https://localhost:8080/"
        },
        "id": "ETuKVYx65dyi",
        "outputId": "091601a6-3b55-4722-b044-1a7631ab0955"
      },
      "source": [
        "grid2.fit(x_train_tf,y_train)"
      ],
      "execution_count": null,
      "outputs": [
        {
          "output_type": "stream",
          "text": [
            "Fitting 3 folds for each of 70 candidates, totalling 210 fits\n",
            "[CV] C=0.1, gamma=1, kernel=sigmoid ..................................\n"
          ],
          "name": "stdout"
        },
        {
          "output_type": "stream",
          "text": [
            "[Parallel(n_jobs=1)]: Using backend SequentialBackend with 1 concurrent workers.\n"
          ],
          "name": "stderr"
        },
        {
          "output_type": "stream",
          "text": [
            "[CV] ...... C=0.1, gamma=1, kernel=sigmoid, score=0.821, total=   4.1s\n",
            "[CV] C=0.1, gamma=1, kernel=sigmoid ..................................\n"
          ],
          "name": "stdout"
        },
        {
          "output_type": "stream",
          "text": [
            "[Parallel(n_jobs=1)]: Done   1 out of   1 | elapsed:    4.1s remaining:    0.0s\n"
          ],
          "name": "stderr"
        },
        {
          "output_type": "stream",
          "text": [
            "[CV] ...... C=0.1, gamma=1, kernel=sigmoid, score=0.834, total=   3.7s\n",
            "[CV] C=0.1, gamma=1, kernel=sigmoid ..................................\n"
          ],
          "name": "stdout"
        },
        {
          "output_type": "stream",
          "text": [
            "[Parallel(n_jobs=1)]: Done   2 out of   2 | elapsed:    7.8s remaining:    0.0s\n"
          ],
          "name": "stderr"
        },
        {
          "output_type": "stream",
          "text": [
            "[CV] ...... C=0.1, gamma=1, kernel=sigmoid, score=0.835, total=   4.2s\n",
            "[CV] C=0.1, gamma=1, kernel=rbf ......................................\n",
            "[CV] .......... C=0.1, gamma=1, kernel=rbf, score=0.885, total=  19.4s\n",
            "[CV] C=0.1, gamma=1, kernel=rbf ......................................\n",
            "[CV] .......... C=0.1, gamma=1, kernel=rbf, score=0.885, total=  19.3s\n",
            "[CV] C=0.1, gamma=1, kernel=rbf ......................................\n",
            "[CV] .......... C=0.1, gamma=1, kernel=rbf, score=0.885, total=  19.4s\n",
            "[CV] C=0.1, gamma=0.1, kernel=sigmoid ................................\n",
            "[CV] .... C=0.1, gamma=0.1, kernel=sigmoid, score=0.852, total=   4.4s\n",
            "[CV] C=0.1, gamma=0.1, kernel=sigmoid ................................\n",
            "[CV] .... C=0.1, gamma=0.1, kernel=sigmoid, score=0.860, total=   3.8s\n",
            "[CV] C=0.1, gamma=0.1, kernel=sigmoid ................................\n",
            "[CV] .... C=0.1, gamma=0.1, kernel=sigmoid, score=0.851, total=   4.3s\n",
            "[CV] C=0.1, gamma=0.1, kernel=rbf ....................................\n",
            "[CV] ........ C=0.1, gamma=0.1, kernel=rbf, score=0.885, total=   4.4s\n",
            "[CV] C=0.1, gamma=0.1, kernel=rbf ....................................\n",
            "[CV] ........ C=0.1, gamma=0.1, kernel=rbf, score=0.885, total=   4.5s\n",
            "[CV] C=0.1, gamma=0.1, kernel=rbf ....................................\n",
            "[CV] ........ C=0.1, gamma=0.1, kernel=rbf, score=0.885, total=   4.4s\n",
            "[CV] C=0.1, gamma=0.01, kernel=sigmoid ...............................\n",
            "[CV] ... C=0.1, gamma=0.01, kernel=sigmoid, score=0.885, total=   3.6s\n",
            "[CV] C=0.1, gamma=0.01, kernel=sigmoid ...............................\n",
            "[CV] ... C=0.1, gamma=0.01, kernel=sigmoid, score=0.884, total=   3.9s\n",
            "[CV] C=0.1, gamma=0.01, kernel=sigmoid ...............................\n",
            "[CV] ... C=0.1, gamma=0.01, kernel=sigmoid, score=0.884, total=   3.8s\n",
            "[CV] C=0.1, gamma=0.01, kernel=rbf ...................................\n",
            "[CV] ....... C=0.1, gamma=0.01, kernel=rbf, score=0.885, total=   3.5s\n",
            "[CV] C=0.1, gamma=0.01, kernel=rbf ...................................\n",
            "[CV] ....... C=0.1, gamma=0.01, kernel=rbf, score=0.885, total=   3.5s\n",
            "[CV] C=0.1, gamma=0.01, kernel=rbf ...................................\n",
            "[CV] ....... C=0.1, gamma=0.01, kernel=rbf, score=0.885, total=   3.4s\n",
            "[CV] C=0.1, gamma=0.001, kernel=sigmoid ..............................\n",
            "[CV] .. C=0.1, gamma=0.001, kernel=sigmoid, score=0.885, total=   3.5s\n",
            "[CV] C=0.1, gamma=0.001, kernel=sigmoid ..............................\n",
            "[CV] .. C=0.1, gamma=0.001, kernel=sigmoid, score=0.885, total=   3.5s\n",
            "[CV] C=0.1, gamma=0.001, kernel=sigmoid ..............................\n",
            "[CV] .. C=0.1, gamma=0.001, kernel=sigmoid, score=0.885, total=   3.5s\n",
            "[CV] C=0.1, gamma=0.001, kernel=rbf ..................................\n",
            "[CV] ...... C=0.1, gamma=0.001, kernel=rbf, score=0.885, total=   3.4s\n",
            "[CV] C=0.1, gamma=0.001, kernel=rbf ..................................\n",
            "[CV] ...... C=0.1, gamma=0.001, kernel=rbf, score=0.885, total=   3.4s\n",
            "[CV] C=0.1, gamma=0.001, kernel=rbf ..................................\n",
            "[CV] ...... C=0.1, gamma=0.001, kernel=rbf, score=0.885, total=   3.4s\n",
            "[CV] C=0.1, gamma=0.0001, kernel=sigmoid .............................\n",
            "[CV] . C=0.1, gamma=0.0001, kernel=sigmoid, score=0.885, total=   3.3s\n",
            "[CV] C=0.1, gamma=0.0001, kernel=sigmoid .............................\n",
            "[CV] . C=0.1, gamma=0.0001, kernel=sigmoid, score=0.885, total=   3.4s\n",
            "[CV] C=0.1, gamma=0.0001, kernel=sigmoid .............................\n",
            "[CV] . C=0.1, gamma=0.0001, kernel=sigmoid, score=0.885, total=   3.4s\n",
            "[CV] C=0.1, gamma=0.0001, kernel=rbf .................................\n",
            "[CV] ..... C=0.1, gamma=0.0001, kernel=rbf, score=0.885, total=   3.4s\n",
            "[CV] C=0.1, gamma=0.0001, kernel=rbf .................................\n",
            "[CV] ..... C=0.1, gamma=0.0001, kernel=rbf, score=0.885, total=   3.5s\n",
            "[CV] C=0.1, gamma=0.0001, kernel=rbf .................................\n",
            "[CV] ..... C=0.1, gamma=0.0001, kernel=rbf, score=0.885, total=   3.4s\n",
            "[CV] C=0.1, gamma=scale, kernel=sigmoid ..............................\n",
            "[CV] .. C=0.1, gamma=scale, kernel=sigmoid, score=0.885, total=   3.8s\n",
            "[CV] C=0.1, gamma=scale, kernel=sigmoid ..............................\n",
            "[CV] .. C=0.1, gamma=scale, kernel=sigmoid, score=0.881, total=   4.4s\n",
            "[CV] C=0.1, gamma=scale, kernel=sigmoid ..............................\n",
            "[CV] .. C=0.1, gamma=scale, kernel=sigmoid, score=0.882, total=   3.7s\n",
            "[CV] C=0.1, gamma=scale, kernel=rbf ..................................\n",
            "[CV] ...... C=0.1, gamma=scale, kernel=rbf, score=0.886, total=   3.6s\n",
            "[CV] C=0.1, gamma=scale, kernel=rbf ..................................\n",
            "[CV] ...... C=0.1, gamma=scale, kernel=rbf, score=0.887, total=   3.7s\n",
            "[CV] C=0.1, gamma=scale, kernel=rbf ..................................\n",
            "[CV] ...... C=0.1, gamma=scale, kernel=rbf, score=0.887, total=   3.6s\n",
            "[CV] C=0.1, gamma=auto, kernel=sigmoid ...............................\n",
            "[CV] ... C=0.1, gamma=auto, kernel=sigmoid, score=0.885, total=   3.8s\n",
            "[CV] C=0.1, gamma=auto, kernel=sigmoid ...............................\n",
            "[CV] ... C=0.1, gamma=auto, kernel=sigmoid, score=0.881, total=   4.4s\n",
            "[CV] C=0.1, gamma=auto, kernel=sigmoid ...............................\n",
            "[CV] ... C=0.1, gamma=auto, kernel=sigmoid, score=0.882, total=   3.7s\n",
            "[CV] C=0.1, gamma=auto, kernel=rbf ...................................\n",
            "[CV] ....... C=0.1, gamma=auto, kernel=rbf, score=0.886, total=   3.6s\n",
            "[CV] C=0.1, gamma=auto, kernel=rbf ...................................\n",
            "[CV] ....... C=0.1, gamma=auto, kernel=rbf, score=0.887, total=   3.7s\n",
            "[CV] C=0.1, gamma=auto, kernel=rbf ...................................\n",
            "[CV] ....... C=0.1, gamma=auto, kernel=rbf, score=0.887, total=   3.6s\n",
            "[CV] C=1, gamma=1, kernel=sigmoid ....................................\n",
            "[CV] ........ C=1, gamma=1, kernel=sigmoid, score=0.817, total=   4.1s\n",
            "[CV] C=1, gamma=1, kernel=sigmoid ....................................\n",
            "[CV] ........ C=1, gamma=1, kernel=sigmoid, score=0.830, total=   3.8s\n",
            "[CV] C=1, gamma=1, kernel=sigmoid ....................................\n",
            "[CV] ........ C=1, gamma=1, kernel=sigmoid, score=0.832, total=   3.8s\n",
            "[CV] C=1, gamma=1, kernel=rbf ........................................\n",
            "[CV] ............ C=1, gamma=1, kernel=rbf, score=0.885, total=  25.0s\n",
            "[CV] C=1, gamma=1, kernel=rbf ........................................\n",
            "[CV] ............ C=1, gamma=1, kernel=rbf, score=0.885, total=  24.5s\n",
            "[CV] C=1, gamma=1, kernel=rbf ........................................\n",
            "[CV] ............ C=1, gamma=1, kernel=rbf, score=0.885, total=  24.8s\n",
            "[CV] C=1, gamma=0.1, kernel=sigmoid ..................................\n",
            "[CV] ...... C=1, gamma=0.1, kernel=sigmoid, score=0.838, total=   3.9s\n",
            "[CV] C=1, gamma=0.1, kernel=sigmoid ..................................\n",
            "[CV] ...... C=1, gamma=0.1, kernel=sigmoid, score=0.848, total=   3.9s\n",
            "[CV] C=1, gamma=0.1, kernel=sigmoid ..................................\n",
            "[CV] ...... C=1, gamma=0.1, kernel=sigmoid, score=0.838, total=   4.0s\n",
            "[CV] C=1, gamma=0.1, kernel=rbf ......................................\n",
            "[CV] .......... C=1, gamma=0.1, kernel=rbf, score=0.901, total=   4.6s\n",
            "[CV] C=1, gamma=0.1, kernel=rbf ......................................\n",
            "[CV] .......... C=1, gamma=0.1, kernel=rbf, score=0.902, total=   4.7s\n",
            "[CV] C=1, gamma=0.1, kernel=rbf ......................................\n",
            "[CV] .......... C=1, gamma=0.1, kernel=rbf, score=0.899, total=   4.6s\n",
            "[CV] C=1, gamma=0.01, kernel=sigmoid .................................\n",
            "[CV] ..... C=1, gamma=0.01, kernel=sigmoid, score=0.891, total=   3.5s\n",
            "[CV] C=1, gamma=0.01, kernel=sigmoid .................................\n",
            "[CV] ..... C=1, gamma=0.01, kernel=sigmoid, score=0.887, total=   3.5s\n",
            "[CV] C=1, gamma=0.01, kernel=sigmoid .................................\n",
            "[CV] ..... C=1, gamma=0.01, kernel=sigmoid, score=0.889, total=   3.5s\n",
            "[CV] C=1, gamma=0.01, kernel=rbf .....................................\n",
            "[CV] ......... C=1, gamma=0.01, kernel=rbf, score=0.900, total=   3.5s\n",
            "[CV] C=1, gamma=0.01, kernel=rbf .....................................\n",
            "[CV] ......... C=1, gamma=0.01, kernel=rbf, score=0.898, total=   3.4s\n",
            "[CV] C=1, gamma=0.01, kernel=rbf .....................................\n",
            "[CV] ......... C=1, gamma=0.01, kernel=rbf, score=0.897, total=   3.5s\n",
            "[CV] C=1, gamma=0.001, kernel=sigmoid ................................\n",
            "[CV] .... C=1, gamma=0.001, kernel=sigmoid, score=0.885, total=   3.5s\n",
            "[CV] C=1, gamma=0.001, kernel=sigmoid ................................\n",
            "[CV] .... C=1, gamma=0.001, kernel=sigmoid, score=0.884, total=   3.7s\n",
            "[CV] C=1, gamma=0.001, kernel=sigmoid ................................\n",
            "[CV] .... C=1, gamma=0.001, kernel=sigmoid, score=0.885, total=   3.7s\n",
            "[CV] C=1, gamma=0.001, kernel=rbf ....................................\n",
            "[CV] ........ C=1, gamma=0.001, kernel=rbf, score=0.885, total=   3.5s\n",
            "[CV] C=1, gamma=0.001, kernel=rbf ....................................\n",
            "[CV] ........ C=1, gamma=0.001, kernel=rbf, score=0.886, total=   3.5s\n",
            "[CV] C=1, gamma=0.001, kernel=rbf ....................................\n",
            "[CV] ........ C=1, gamma=0.001, kernel=rbf, score=0.887, total=   3.5s\n",
            "[CV] C=1, gamma=0.0001, kernel=sigmoid ...............................\n",
            "[CV] ... C=1, gamma=0.0001, kernel=sigmoid, score=0.885, total=   3.4s\n",
            "[CV] C=1, gamma=0.0001, kernel=sigmoid ...............................\n",
            "[CV] ... C=1, gamma=0.0001, kernel=sigmoid, score=0.885, total=   3.5s\n",
            "[CV] C=1, gamma=0.0001, kernel=sigmoid ...............................\n",
            "[CV] ... C=1, gamma=0.0001, kernel=sigmoid, score=0.885, total=   3.5s\n",
            "[CV] C=1, gamma=0.0001, kernel=rbf ...................................\n",
            "[CV] ....... C=1, gamma=0.0001, kernel=rbf, score=0.885, total=   3.5s\n",
            "[CV] C=1, gamma=0.0001, kernel=rbf ...................................\n",
            "[CV] ....... C=1, gamma=0.0001, kernel=rbf, score=0.885, total=   3.5s\n",
            "[CV] C=1, gamma=0.0001, kernel=rbf ...................................\n",
            "[CV] ....... C=1, gamma=0.0001, kernel=rbf, score=0.885, total=   3.5s\n",
            "[CV] C=1, gamma=scale, kernel=sigmoid ................................\n",
            "[CV] .... C=1, gamma=scale, kernel=sigmoid, score=0.854, total=   3.0s\n",
            "[CV] C=1, gamma=scale, kernel=sigmoid ................................\n",
            "[CV] .... C=1, gamma=scale, kernel=sigmoid, score=0.857, total=   3.2s\n",
            "[CV] C=1, gamma=scale, kernel=sigmoid ................................\n",
            "[CV] .... C=1, gamma=scale, kernel=sigmoid, score=0.851, total=   3.4s\n",
            "[CV] C=1, gamma=scale, kernel=rbf ....................................\n",
            "[CV] ........ C=1, gamma=scale, kernel=rbf, score=0.903, total=   3.7s\n",
            "[CV] C=1, gamma=scale, kernel=rbf ....................................\n",
            "[CV] ........ C=1, gamma=scale, kernel=rbf, score=0.904, total=   3.7s\n",
            "[CV] C=1, gamma=scale, kernel=rbf ....................................\n",
            "[CV] ........ C=1, gamma=scale, kernel=rbf, score=0.899, total=   3.7s\n",
            "[CV] C=1, gamma=auto, kernel=sigmoid .................................\n",
            "[CV] ..... C=1, gamma=auto, kernel=sigmoid, score=0.853, total=   3.0s\n",
            "[CV] C=1, gamma=auto, kernel=sigmoid .................................\n",
            "[CV] ..... C=1, gamma=auto, kernel=sigmoid, score=0.857, total=   3.2s\n",
            "[CV] C=1, gamma=auto, kernel=sigmoid .................................\n",
            "[CV] ..... C=1, gamma=auto, kernel=sigmoid, score=0.851, total=   3.2s\n",
            "[CV] C=1, gamma=auto, kernel=rbf .....................................\n",
            "[CV] ......... C=1, gamma=auto, kernel=rbf, score=0.903, total=   3.8s\n",
            "[CV] C=1, gamma=auto, kernel=rbf .....................................\n",
            "[CV] ......... C=1, gamma=auto, kernel=rbf, score=0.904, total=   3.8s\n",
            "[CV] C=1, gamma=auto, kernel=rbf .....................................\n",
            "[CV] ......... C=1, gamma=auto, kernel=rbf, score=0.899, total=   3.6s\n",
            "[CV] C=10, gamma=1, kernel=sigmoid ...................................\n",
            "[CV] ....... C=10, gamma=1, kernel=sigmoid, score=0.816, total=   4.1s\n",
            "[CV] C=10, gamma=1, kernel=sigmoid ...................................\n",
            "[CV] ....... C=10, gamma=1, kernel=sigmoid, score=0.830, total=   3.8s\n",
            "[CV] C=10, gamma=1, kernel=sigmoid ...................................\n",
            "[CV] ....... C=10, gamma=1, kernel=sigmoid, score=0.831, total=   3.8s\n",
            "[CV] C=10, gamma=1, kernel=rbf .......................................\n",
            "[CV] ........... C=10, gamma=1, kernel=rbf, score=0.881, total=  31.6s\n",
            "[CV] C=10, gamma=1, kernel=rbf .......................................\n",
            "[CV] ........... C=10, gamma=1, kernel=rbf, score=0.879, total=  32.0s\n",
            "[CV] C=10, gamma=1, kernel=rbf .......................................\n",
            "[CV] ........... C=10, gamma=1, kernel=rbf, score=0.880, total=  31.9s\n",
            "[CV] C=10, gamma=0.1, kernel=sigmoid .................................\n",
            "[CV] ..... C=10, gamma=0.1, kernel=sigmoid, score=0.836, total=   4.0s\n",
            "[CV] C=10, gamma=0.1, kernel=sigmoid .................................\n",
            "[CV] ..... C=10, gamma=0.1, kernel=sigmoid, score=0.847, total=   3.6s\n",
            "[CV] C=10, gamma=0.1, kernel=sigmoid .................................\n",
            "[CV] ..... C=10, gamma=0.1, kernel=sigmoid, score=0.836, total=   3.8s\n",
            "[CV] C=10, gamma=0.1, kernel=rbf .....................................\n",
            "[CV] ......... C=10, gamma=0.1, kernel=rbf, score=0.892, total=   5.4s\n",
            "[CV] C=10, gamma=0.1, kernel=rbf .....................................\n",
            "[CV] ......... C=10, gamma=0.1, kernel=rbf, score=0.898, total=   5.4s\n",
            "[CV] C=10, gamma=0.1, kernel=rbf .....................................\n",
            "[CV] ......... C=10, gamma=0.1, kernel=rbf, score=0.892, total=   5.3s\n",
            "[CV] C=10, gamma=0.01, kernel=sigmoid ................................\n",
            "[CV] .... C=10, gamma=0.01, kernel=sigmoid, score=0.867, total=   2.8s\n",
            "[CV] C=10, gamma=0.01, kernel=sigmoid ................................\n",
            "[CV] .... C=10, gamma=0.01, kernel=sigmoid, score=0.865, total=   2.8s\n",
            "[CV] C=10, gamma=0.01, kernel=sigmoid ................................\n",
            "[CV] .... C=10, gamma=0.01, kernel=sigmoid, score=0.873, total=   2.8s\n",
            "[CV] C=10, gamma=0.01, kernel=rbf ....................................\n",
            "[CV] ........ C=10, gamma=0.01, kernel=rbf, score=0.902, total=   3.9s\n",
            "[CV] C=10, gamma=0.01, kernel=rbf ....................................\n",
            "[CV] ........ C=10, gamma=0.01, kernel=rbf, score=0.904, total=   3.9s\n",
            "[CV] C=10, gamma=0.01, kernel=rbf ....................................\n",
            "[CV] ........ C=10, gamma=0.01, kernel=rbf, score=0.898, total=   3.8s\n",
            "[CV] C=10, gamma=0.001, kernel=sigmoid ...............................\n",
            "[CV] ... C=10, gamma=0.001, kernel=sigmoid, score=0.892, total=   3.8s\n",
            "[CV] C=10, gamma=0.001, kernel=sigmoid ...............................\n",
            "[CV] ... C=10, gamma=0.001, kernel=sigmoid, score=0.890, total=   3.6s\n",
            "[CV] C=10, gamma=0.001, kernel=sigmoid ...............................\n",
            "[CV] ... C=10, gamma=0.001, kernel=sigmoid, score=0.891, total=   3.7s\n",
            "[CV] C=10, gamma=0.001, kernel=rbf ...................................\n",
            "[CV] ....... C=10, gamma=0.001, kernel=rbf, score=0.896, total=   3.6s\n",
            "[CV] C=10, gamma=0.001, kernel=rbf ...................................\n",
            "[CV] ....... C=10, gamma=0.001, kernel=rbf, score=0.893, total=   3.5s\n",
            "[CV] C=10, gamma=0.001, kernel=rbf ...................................\n",
            "[CV] ....... C=10, gamma=0.001, kernel=rbf, score=0.894, total=   3.5s\n",
            "[CV] C=10, gamma=0.0001, kernel=sigmoid ..............................\n",
            "[CV] .. C=10, gamma=0.0001, kernel=sigmoid, score=0.885, total=   3.5s\n",
            "[CV] C=10, gamma=0.0001, kernel=sigmoid ..............................\n",
            "[CV] .. C=10, gamma=0.0001, kernel=sigmoid, score=0.884, total=   3.5s\n",
            "[CV] C=10, gamma=0.0001, kernel=sigmoid ..............................\n",
            "[CV] .. C=10, gamma=0.0001, kernel=sigmoid, score=0.885, total=   3.4s\n",
            "[CV] C=10, gamma=0.0001, kernel=rbf ..................................\n",
            "[CV] ...... C=10, gamma=0.0001, kernel=rbf, score=0.885, total=   3.5s\n",
            "[CV] C=10, gamma=0.0001, kernel=rbf ..................................\n",
            "[CV] ...... C=10, gamma=0.0001, kernel=rbf, score=0.886, total=   3.5s\n",
            "[CV] C=10, gamma=0.0001, kernel=rbf ..................................\n",
            "[CV] ...... C=10, gamma=0.0001, kernel=rbf, score=0.887, total=   3.5s\n",
            "[CV] C=10, gamma=scale, kernel=sigmoid ...............................\n",
            "[CV] ... C=10, gamma=scale, kernel=sigmoid, score=0.848, total=   2.7s\n",
            "[CV] C=10, gamma=scale, kernel=sigmoid ...............................\n",
            "[CV] ... C=10, gamma=scale, kernel=sigmoid, score=0.853, total=   3.0s\n",
            "[CV] C=10, gamma=scale, kernel=sigmoid ...............................\n",
            "[CV] ... C=10, gamma=scale, kernel=sigmoid, score=0.848, total=   2.8s\n",
            "[CV] C=10, gamma=scale, kernel=rbf ...................................\n",
            "[CV] ....... C=10, gamma=scale, kernel=rbf, score=0.901, total=   4.6s\n",
            "[CV] C=10, gamma=scale, kernel=rbf ...................................\n",
            "[CV] ....... C=10, gamma=scale, kernel=rbf, score=0.901, total=   4.6s\n",
            "[CV] C=10, gamma=scale, kernel=rbf ...................................\n",
            "[CV] ....... C=10, gamma=scale, kernel=rbf, score=0.899, total=   4.5s\n",
            "[CV] C=10, gamma=auto, kernel=sigmoid ................................\n",
            "[CV] .... C=10, gamma=auto, kernel=sigmoid, score=0.848, total=   2.8s\n",
            "[CV] C=10, gamma=auto, kernel=sigmoid ................................\n",
            "[CV] .... C=10, gamma=auto, kernel=sigmoid, score=0.854, total=   2.7s\n",
            "[CV] C=10, gamma=auto, kernel=sigmoid ................................\n",
            "[CV] .... C=10, gamma=auto, kernel=sigmoid, score=0.847, total=   3.0s\n",
            "[CV] C=10, gamma=auto, kernel=rbf ....................................\n",
            "[CV] ........ C=10, gamma=auto, kernel=rbf, score=0.900, total=   4.8s\n",
            "[CV] C=10, gamma=auto, kernel=rbf ....................................\n",
            "[CV] ........ C=10, gamma=auto, kernel=rbf, score=0.901, total=   4.6s\n",
            "[CV] C=10, gamma=auto, kernel=rbf ....................................\n",
            "[CV] ........ C=10, gamma=auto, kernel=rbf, score=0.899, total=   4.6s\n",
            "[CV] C=100, gamma=1, kernel=sigmoid ..................................\n",
            "[CV] ...... C=100, gamma=1, kernel=sigmoid, score=0.816, total=   4.3s\n",
            "[CV] C=100, gamma=1, kernel=sigmoid ..................................\n",
            "[CV] ...... C=100, gamma=1, kernel=sigmoid, score=0.829, total=   3.9s\n",
            "[CV] C=100, gamma=1, kernel=sigmoid ..................................\n",
            "[CV] ...... C=100, gamma=1, kernel=sigmoid, score=0.830, total=   4.7s\n",
            "[CV] C=100, gamma=1, kernel=rbf ......................................\n",
            "[CV] .......... C=100, gamma=1, kernel=rbf, score=0.881, total=  32.1s\n",
            "[CV] C=100, gamma=1, kernel=rbf ......................................\n",
            "[CV] .......... C=100, gamma=1, kernel=rbf, score=0.879, total=  32.0s\n",
            "[CV] C=100, gamma=1, kernel=rbf ......................................\n",
            "[CV] .......... C=100, gamma=1, kernel=rbf, score=0.880, total=  31.6s\n",
            "[CV] C=100, gamma=0.1, kernel=sigmoid ................................\n",
            "[CV] .... C=100, gamma=0.1, kernel=sigmoid, score=0.835, total=   4.1s\n",
            "[CV] C=100, gamma=0.1, kernel=sigmoid ................................\n",
            "[CV] .... C=100, gamma=0.1, kernel=sigmoid, score=0.846, total=   3.9s\n",
            "[CV] C=100, gamma=0.1, kernel=sigmoid ................................\n",
            "[CV] .... C=100, gamma=0.1, kernel=sigmoid, score=0.836, total=   3.9s\n",
            "[CV] C=100, gamma=0.1, kernel=rbf ....................................\n",
            "[CV] ........ C=100, gamma=0.1, kernel=rbf, score=0.876, total=   6.4s\n",
            "[CV] C=100, gamma=0.1, kernel=rbf ....................................\n",
            "[CV] ........ C=100, gamma=0.1, kernel=rbf, score=0.887, total=   6.5s\n",
            "[CV] C=100, gamma=0.1, kernel=rbf ....................................\n",
            "[CV] ........ C=100, gamma=0.1, kernel=rbf, score=0.884, total=   6.5s\n",
            "[CV] C=100, gamma=0.01, kernel=sigmoid ...............................\n",
            "[CV] ... C=100, gamma=0.01, kernel=sigmoid, score=0.855, total=   2.5s\n",
            "[CV] C=100, gamma=0.01, kernel=sigmoid ...............................\n",
            "[CV] ... C=100, gamma=0.01, kernel=sigmoid, score=0.856, total=   2.7s\n",
            "[CV] C=100, gamma=0.01, kernel=sigmoid ...............................\n",
            "[CV] ... C=100, gamma=0.01, kernel=sigmoid, score=0.864, total=   2.6s\n",
            "[CV] C=100, gamma=0.01, kernel=rbf ...................................\n",
            "[CV] ....... C=100, gamma=0.01, kernel=rbf, score=0.903, total=   5.8s\n",
            "[CV] C=100, gamma=0.01, kernel=rbf ...................................\n",
            "[CV] ....... C=100, gamma=0.01, kernel=rbf, score=0.903, total=   5.6s\n",
            "[CV] C=100, gamma=0.01, kernel=rbf ...................................\n",
            "[CV] ....... C=100, gamma=0.01, kernel=rbf, score=0.900, total=   5.5s\n",
            "[CV] C=100, gamma=0.001, kernel=sigmoid ..............................\n",
            "[CV] .. C=100, gamma=0.001, kernel=sigmoid, score=0.896, total=   3.8s\n",
            "[CV] C=100, gamma=0.001, kernel=sigmoid ..............................\n",
            "[CV] .. C=100, gamma=0.001, kernel=sigmoid, score=0.890, total=   3.9s\n",
            "[CV] C=100, gamma=0.001, kernel=sigmoid ..............................\n",
            "[CV] .. C=100, gamma=0.001, kernel=sigmoid, score=0.891, total=   4.0s\n",
            "[CV] C=100, gamma=0.001, kernel=rbf ..................................\n",
            "[CV] ...... C=100, gamma=0.001, kernel=rbf, score=0.902, total=   4.0s\n",
            "[CV] C=100, gamma=0.001, kernel=rbf ..................................\n",
            "[CV] ...... C=100, gamma=0.001, kernel=rbf, score=0.901, total=   4.2s\n",
            "[CV] C=100, gamma=0.001, kernel=rbf ..................................\n",
            "[CV] ...... C=100, gamma=0.001, kernel=rbf, score=0.897, total=   4.0s\n",
            "[CV] C=100, gamma=0.0001, kernel=sigmoid .............................\n",
            "[CV] . C=100, gamma=0.0001, kernel=sigmoid, score=0.893, total=   3.5s\n",
            "[CV] C=100, gamma=0.0001, kernel=sigmoid .............................\n",
            "[CV] . C=100, gamma=0.0001, kernel=sigmoid, score=0.889, total=   3.6s\n",
            "[CV] C=100, gamma=0.0001, kernel=sigmoid .............................\n",
            "[CV] . C=100, gamma=0.0001, kernel=sigmoid, score=0.892, total=   3.6s\n",
            "[CV] C=100, gamma=0.0001, kernel=rbf .................................\n",
            "[CV] ..... C=100, gamma=0.0001, kernel=rbf, score=0.894, total=   3.7s\n",
            "[CV] C=100, gamma=0.0001, kernel=rbf .................................\n",
            "[CV] ..... C=100, gamma=0.0001, kernel=rbf, score=0.892, total=   3.6s\n",
            "[CV] C=100, gamma=0.0001, kernel=rbf .................................\n",
            "[CV] ..... C=100, gamma=0.0001, kernel=rbf, score=0.893, total=   3.6s\n",
            "[CV] C=100, gamma=scale, kernel=sigmoid ..............................\n",
            "[CV] .. C=100, gamma=scale, kernel=sigmoid, score=0.847, total=   2.7s\n",
            "[CV] C=100, gamma=scale, kernel=sigmoid ..............................\n",
            "[CV] .. C=100, gamma=scale, kernel=sigmoid, score=0.853, total=   2.7s\n",
            "[CV] C=100, gamma=scale, kernel=sigmoid ..............................\n",
            "[CV] .. C=100, gamma=scale, kernel=sigmoid, score=0.847, total=   2.7s\n",
            "[CV] C=100, gamma=scale, kernel=rbf ..................................\n",
            "[CV] ...... C=100, gamma=scale, kernel=rbf, score=0.892, total=   6.7s\n",
            "[CV] C=100, gamma=scale, kernel=rbf ..................................\n",
            "[CV] ...... C=100, gamma=scale, kernel=rbf, score=0.894, total=   6.7s\n",
            "[CV] C=100, gamma=scale, kernel=rbf ..................................\n",
            "[CV] ...... C=100, gamma=scale, kernel=rbf, score=0.890, total=   6.6s\n",
            "[CV] C=100, gamma=auto, kernel=sigmoid ...............................\n",
            "[CV] ... C=100, gamma=auto, kernel=sigmoid, score=0.845, total=   2.8s\n",
            "[CV] C=100, gamma=auto, kernel=sigmoid ...............................\n",
            "[CV] ... C=100, gamma=auto, kernel=sigmoid, score=0.852, total=   2.7s\n",
            "[CV] C=100, gamma=auto, kernel=sigmoid ...............................\n",
            "[CV] ... C=100, gamma=auto, kernel=sigmoid, score=0.848, total=   2.8s\n",
            "[CV] C=100, gamma=auto, kernel=rbf ...................................\n",
            "[CV] ....... C=100, gamma=auto, kernel=rbf, score=0.891, total=   6.8s\n",
            "[CV] C=100, gamma=auto, kernel=rbf ...................................\n",
            "[CV] ....... C=100, gamma=auto, kernel=rbf, score=0.894, total=   6.7s\n",
            "[CV] C=100, gamma=auto, kernel=rbf ...................................\n",
            "[CV] ....... C=100, gamma=auto, kernel=rbf, score=0.891, total=   6.7s\n",
            "[CV] C=1000, gamma=1, kernel=sigmoid .................................\n",
            "[CV] ..... C=1000, gamma=1, kernel=sigmoid, score=0.816, total=   4.1s\n",
            "[CV] C=1000, gamma=1, kernel=sigmoid .................................\n",
            "[CV] ..... C=1000, gamma=1, kernel=sigmoid, score=0.829, total=   3.8s\n",
            "[CV] C=1000, gamma=1, kernel=sigmoid .................................\n",
            "[CV] ..... C=1000, gamma=1, kernel=sigmoid, score=0.831, total=   3.8s\n",
            "[CV] C=1000, gamma=1, kernel=rbf .....................................\n",
            "[CV] ......... C=1000, gamma=1, kernel=rbf, score=0.880, total=  31.3s\n",
            "[CV] C=1000, gamma=1, kernel=rbf .....................................\n",
            "[CV] ......... C=1000, gamma=1, kernel=rbf, score=0.879, total=  32.1s\n",
            "[CV] C=1000, gamma=1, kernel=rbf .....................................\n",
            "[CV] ......... C=1000, gamma=1, kernel=rbf, score=0.880, total=  31.2s\n",
            "[CV] C=1000, gamma=0.1, kernel=sigmoid ...............................\n",
            "[CV] ... C=1000, gamma=0.1, kernel=sigmoid, score=0.835, total=   3.9s\n",
            "[CV] C=1000, gamma=0.1, kernel=sigmoid ...............................\n",
            "[CV] ... C=1000, gamma=0.1, kernel=sigmoid, score=0.847, total=   3.8s\n",
            "[CV] C=1000, gamma=0.1, kernel=sigmoid ...............................\n",
            "[CV] ... C=1000, gamma=0.1, kernel=sigmoid, score=0.836, total=   3.8s\n",
            "[CV] C=1000, gamma=0.1, kernel=rbf ...................................\n",
            "[CV] ....... C=1000, gamma=0.1, kernel=rbf, score=0.873, total=   7.0s\n",
            "[CV] C=1000, gamma=0.1, kernel=rbf ...................................\n",
            "[CV] ....... C=1000, gamma=0.1, kernel=rbf, score=0.878, total=   7.2s\n",
            "[CV] C=1000, gamma=0.1, kernel=rbf ...................................\n",
            "[CV] ....... C=1000, gamma=0.1, kernel=rbf, score=0.878, total=   6.9s\n",
            "[CV] C=1000, gamma=0.01, kernel=sigmoid ..............................\n",
            "[CV] .. C=1000, gamma=0.01, kernel=sigmoid, score=0.850, total=   2.6s\n",
            "[CV] C=1000, gamma=0.01, kernel=sigmoid ..............................\n",
            "[CV] .. C=1000, gamma=0.01, kernel=sigmoid, score=0.853, total=   2.4s\n",
            "[CV] C=1000, gamma=0.01, kernel=sigmoid ..............................\n",
            "[CV] .. C=1000, gamma=0.01, kernel=sigmoid, score=0.863, total=   2.8s\n",
            "[CV] C=1000, gamma=0.01, kernel=rbf ..................................\n",
            "[CV] ...... C=1000, gamma=0.01, kernel=rbf, score=0.897, total=  14.9s\n",
            "[CV] C=1000, gamma=0.01, kernel=rbf ..................................\n",
            "[CV] ...... C=1000, gamma=0.01, kernel=rbf, score=0.899, total=  14.5s\n",
            "[CV] C=1000, gamma=0.01, kernel=rbf ..................................\n",
            "[CV] ...... C=1000, gamma=0.01, kernel=rbf, score=0.895, total=  15.0s\n",
            "[CV] C=1000, gamma=0.001, kernel=sigmoid .............................\n",
            "[CV] . C=1000, gamma=0.001, kernel=sigmoid, score=0.884, total=   4.0s\n",
            "[CV] C=1000, gamma=0.001, kernel=sigmoid .............................\n",
            "[CV] . C=1000, gamma=0.001, kernel=sigmoid, score=0.883, total=   4.1s\n",
            "[CV] C=1000, gamma=0.001, kernel=sigmoid .............................\n",
            "[CV] . C=1000, gamma=0.001, kernel=sigmoid, score=0.889, total=   5.0s\n",
            "[CV] C=1000, gamma=0.001, kernel=rbf .................................\n",
            "[CV] ..... C=1000, gamma=0.001, kernel=rbf, score=0.903, total=   6.6s\n",
            "[CV] C=1000, gamma=0.001, kernel=rbf .................................\n",
            "[CV] ..... C=1000, gamma=0.001, kernel=rbf, score=0.900, total=   6.6s\n",
            "[CV] C=1000, gamma=0.001, kernel=rbf .................................\n",
            "[CV] ..... C=1000, gamma=0.001, kernel=rbf, score=0.899, total=   5.9s\n",
            "[CV] C=1000, gamma=0.0001, kernel=sigmoid ............................\n",
            "[CV]  C=1000, gamma=0.0001, kernel=sigmoid, score=0.894, total=   4.2s\n",
            "[CV] C=1000, gamma=0.0001, kernel=sigmoid ............................\n",
            "[CV]  C=1000, gamma=0.0001, kernel=sigmoid, score=0.893, total=   4.1s\n",
            "[CV] C=1000, gamma=0.0001, kernel=sigmoid ............................\n",
            "[CV]  C=1000, gamma=0.0001, kernel=sigmoid, score=0.892, total=   3.9s\n",
            "[CV] C=1000, gamma=0.0001, kernel=rbf ................................\n",
            "[CV] .... C=1000, gamma=0.0001, kernel=rbf, score=0.899, total=   4.0s\n",
            "[CV] C=1000, gamma=0.0001, kernel=rbf ................................\n",
            "[CV] .... C=1000, gamma=0.0001, kernel=rbf, score=0.894, total=   4.0s\n",
            "[CV] C=1000, gamma=0.0001, kernel=rbf ................................\n",
            "[CV] .... C=1000, gamma=0.0001, kernel=rbf, score=0.895, total=   3.9s\n",
            "[CV] C=1000, gamma=scale, kernel=sigmoid .............................\n",
            "[CV] . C=1000, gamma=scale, kernel=sigmoid, score=0.846, total=   2.6s\n",
            "[CV] C=1000, gamma=scale, kernel=sigmoid .............................\n",
            "[CV] . C=1000, gamma=scale, kernel=sigmoid, score=0.849, total=   2.8s\n",
            "[CV] C=1000, gamma=scale, kernel=sigmoid .............................\n",
            "[CV] . C=1000, gamma=scale, kernel=sigmoid, score=0.847, total=   2.6s\n",
            "[CV] C=1000, gamma=scale, kernel=rbf .................................\n",
            "[CV] ..... C=1000, gamma=scale, kernel=rbf, score=0.876, total=  12.4s\n",
            "[CV] C=1000, gamma=scale, kernel=rbf .................................\n",
            "[CV] ..... C=1000, gamma=scale, kernel=rbf, score=0.881, total=  11.8s\n",
            "[CV] C=1000, gamma=scale, kernel=rbf .................................\n",
            "[CV] ..... C=1000, gamma=scale, kernel=rbf, score=0.881, total=  11.7s\n",
            "[CV] C=1000, gamma=auto, kernel=sigmoid ..............................\n",
            "[CV] .. C=1000, gamma=auto, kernel=sigmoid, score=0.845, total=   2.6s\n",
            "[CV] C=1000, gamma=auto, kernel=sigmoid ..............................\n",
            "[CV] .. C=1000, gamma=auto, kernel=sigmoid, score=0.853, total=   2.8s\n",
            "[CV] C=1000, gamma=auto, kernel=sigmoid ..............................\n",
            "[CV] .. C=1000, gamma=auto, kernel=sigmoid, score=0.848, total=   2.6s\n",
            "[CV] C=1000, gamma=auto, kernel=rbf ..................................\n",
            "[CV] ...... C=1000, gamma=auto, kernel=rbf, score=0.876, total=  12.1s\n",
            "[CV] C=1000, gamma=auto, kernel=rbf ..................................\n",
            "[CV] ...... C=1000, gamma=auto, kernel=rbf, score=0.881, total=  11.7s\n",
            "[CV] C=1000, gamma=auto, kernel=rbf ..................................\n",
            "[CV] ...... C=1000, gamma=auto, kernel=rbf, score=0.882, total=  11.6s\n"
          ],
          "name": "stdout"
        },
        {
          "output_type": "stream",
          "text": [
            "[Parallel(n_jobs=1)]: Done 210 out of 210 | elapsed: 21.1min finished\n"
          ],
          "name": "stderr"
        },
        {
          "output_type": "execute_result",
          "data": {
            "text/plain": [
              "GridSearchCV(cv=3, error_score=nan,\n",
              "             estimator=SVC(C=1.0, break_ties=False, cache_size=200,\n",
              "                           class_weight=None, coef0=0.0,\n",
              "                           decision_function_shape='ovr', degree=3,\n",
              "                           gamma='scale', kernel='rbf', max_iter=-1,\n",
              "                           probability=False, random_state=None, shrinking=True,\n",
              "                           tol=0.001, verbose=False),\n",
              "             iid='deprecated', n_jobs=None,\n",
              "             param_grid={'C': [0.1, 1, 10, 100, 1000],\n",
              "                         'gamma': [1, 0.1, 0.01, 0.001, 0.0001, 'scale',\n",
              "                                   'auto'],\n",
              "                         'kernel': ['sigmoid', 'rbf']},\n",
              "             pre_dispatch='2*n_jobs', refit=True, return_train_score=False,\n",
              "             scoring=None, verbose=3)"
            ]
          },
          "metadata": {
            "tags": []
          },
          "execution_count": 30
        }
      ]
    },
    {
      "cell_type": "code",
      "metadata": {
        "colab": {
          "base_uri": "https://localhost:8080/"
        },
        "id": "wsmTzwWL5dv8",
        "outputId": "6761e3b6-b593-44f6-f4ae-30135d82c83f"
      },
      "source": [
        "grid2.best_params_"
      ],
      "execution_count": null,
      "outputs": [
        {
          "output_type": "execute_result",
          "data": {
            "text/plain": [
              "{'C': 100, 'gamma': 0.01, 'kernel': 'rbf'}"
            ]
          },
          "metadata": {
            "tags": []
          },
          "execution_count": 31
        }
      ]
    },
    {
      "cell_type": "code",
      "metadata": {
        "id": "TraEyXC-5dt8"
      },
      "source": [
        "model_best_SVC=SVC(C=100, gamma= 0.01, kernel= 'rbf')"
      ],
      "execution_count": null,
      "outputs": []
    },
    {
      "cell_type": "code",
      "metadata": {
        "colab": {
          "base_uri": "https://localhost:8080/"
        },
        "id": "L9ldh4UC5dre",
        "outputId": "a0ce3570-6fc6-4686-9379-97714a5b1f0a"
      },
      "source": [
        "model_best_SVC.fit(x_train_tf,y_train)"
      ],
      "execution_count": null,
      "outputs": [
        {
          "output_type": "execute_result",
          "data": {
            "text/plain": [
              "SVC(C=100, break_ties=False, cache_size=200, class_weight=None, coef0=0.0,\n",
              "    decision_function_shape='ovr', degree=3, gamma=0.01, kernel='rbf',\n",
              "    max_iter=-1, probability=False, random_state=None, shrinking=True,\n",
              "    tol=0.001, verbose=False)"
            ]
          },
          "metadata": {
            "tags": []
          },
          "execution_count": 33
        }
      ]
    },
    {
      "cell_type": "code",
      "metadata": {
        "id": "2SW3BDl65dpG"
      },
      "source": [
        "model_best_SVC_pred=model_best_SVC.predict(x_val_tf)"
      ],
      "execution_count": null,
      "outputs": []
    },
    {
      "cell_type": "code",
      "metadata": {
        "colab": {
          "base_uri": "https://localhost:8080/"
        },
        "id": "K8anKjh6AMZT",
        "outputId": "ec08cadf-2d3e-449c-b4b9-d108f38e4dc9"
      },
      "source": [
        "print(classification_report(y_val,model_best_SVC_pred))"
      ],
      "execution_count": null,
      "outputs": [
        {
          "output_type": "stream",
          "text": [
            "              precision    recall  f1-score   support\n",
            "\n",
            "           0       0.92      0.97      0.95      5584\n",
            "           1       0.65      0.38      0.48       746\n",
            "\n",
            "    accuracy                           0.90      6330\n",
            "   macro avg       0.79      0.67      0.71      6330\n",
            "weighted avg       0.89      0.90      0.89      6330\n",
            "\n"
          ],
          "name": "stdout"
        }
      ]
    },
    {
      "cell_type": "code",
      "metadata": {
        "id": "1s5LYMs7TkY9"
      },
      "source": [
        "#neural networks"
      ],
      "execution_count": null,
      "outputs": []
    },
    {
      "cell_type": "code",
      "metadata": {
        "id": "c3Xa-DcSX5vx"
      },
      "source": [
        "model = Sequential()\n",
        "model.add(Dense(69, input_dim=26, activation='relu'))\n",
        "model.add(Dense(46, activation='relu'))\n",
        "model.add(Dense(1, activation='sigmoid'))"
      ],
      "execution_count": null,
      "outputs": []
    },
    {
      "cell_type": "code",
      "metadata": {
        "id": "U1dUHPTKX57K"
      },
      "source": [
        "model.compile(loss='binary_crossentropy', optimizer='adam', metrics=['accuracy'])"
      ],
      "execution_count": null,
      "outputs": []
    },
    {
      "cell_type": "code",
      "metadata": {
        "colab": {
          "base_uri": "https://localhost:8080/"
        },
        "id": "vrwbXub4X6Do",
        "outputId": "459ac804-c8b2-4842-f246-b526a2d4550e"
      },
      "source": [
        "model.fit(x_train, y_train, epochs=150, batch_size=10)"
      ],
      "execution_count": null,
      "outputs": [
        {
          "output_type": "stream",
          "text": [
            "Epoch 1/150\n",
            "1899/1899 [==============================] - 4s 2ms/step - loss: 28.6143 - accuracy: 0.7905\n",
            "Epoch 2/150\n",
            "1899/1899 [==============================] - 4s 2ms/step - loss: 17.3970 - accuracy: 0.8156\n",
            "Epoch 3/150\n",
            "1899/1899 [==============================] - 4s 2ms/step - loss: 11.3508 - accuracy: 0.8257\n",
            "Epoch 4/150\n",
            "1899/1899 [==============================] - 4s 2ms/step - loss: 8.5334 - accuracy: 0.8252\n",
            "Epoch 5/150\n",
            "1899/1899 [==============================] - 4s 2ms/step - loss: 5.7689 - accuracy: 0.8298\n",
            "Epoch 6/150\n",
            "1899/1899 [==============================] - 4s 2ms/step - loss: 3.9602 - accuracy: 0.8341\n",
            "Epoch 7/150\n",
            "1899/1899 [==============================] - 4s 2ms/step - loss: 2.7324 - accuracy: 0.8410\n",
            "Epoch 8/150\n",
            "1899/1899 [==============================] - 4s 2ms/step - loss: 1.8663 - accuracy: 0.8434\n",
            "Epoch 9/150\n",
            "1899/1899 [==============================] - 4s 2ms/step - loss: 1.3209 - accuracy: 0.8467\n",
            "Epoch 10/150\n",
            "1899/1899 [==============================] - 4s 2ms/step - loss: 0.8483 - accuracy: 0.8523\n",
            "Epoch 11/150\n",
            "1899/1899 [==============================] - 4s 2ms/step - loss: 0.4669 - accuracy: 0.8652\n",
            "Epoch 12/150\n",
            "1899/1899 [==============================] - 4s 2ms/step - loss: 0.4160 - accuracy: 0.8674\n",
            "Epoch 13/150\n",
            "1899/1899 [==============================] - 5s 2ms/step - loss: 0.3509 - accuracy: 0.8752\n",
            "Epoch 14/150\n",
            "1899/1899 [==============================] - 5s 3ms/step - loss: 0.3212 - accuracy: 0.8837\n",
            "Epoch 15/150\n",
            "1899/1899 [==============================] - 5s 2ms/step - loss: 0.2841 - accuracy: 0.8884\n",
            "Epoch 16/150\n",
            "1899/1899 [==============================] - 4s 2ms/step - loss: 0.2898 - accuracy: 0.8901\n",
            "Epoch 17/150\n",
            "1899/1899 [==============================] - 4s 2ms/step - loss: 0.2757 - accuracy: 0.8910\n",
            "Epoch 18/150\n",
            "1899/1899 [==============================] - 4s 2ms/step - loss: 0.2732 - accuracy: 0.8919\n",
            "Epoch 19/150\n",
            "1899/1899 [==============================] - 4s 2ms/step - loss: 0.2745 - accuracy: 0.8895\n",
            "Epoch 20/150\n",
            "1899/1899 [==============================] - 4s 2ms/step - loss: 0.2711 - accuracy: 0.8896\n",
            "Epoch 21/150\n",
            "1899/1899 [==============================] - 4s 2ms/step - loss: 0.2629 - accuracy: 0.8908\n",
            "Epoch 22/150\n",
            "1899/1899 [==============================] - 4s 2ms/step - loss: 0.2628 - accuracy: 0.8907\n",
            "Epoch 23/150\n",
            "1899/1899 [==============================] - 4s 2ms/step - loss: 0.2597 - accuracy: 0.8914\n",
            "Epoch 24/150\n",
            "1899/1899 [==============================] - 4s 2ms/step - loss: 0.2563 - accuracy: 0.8919\n",
            "Epoch 25/150\n",
            "1899/1899 [==============================] - 4s 2ms/step - loss: 0.2579 - accuracy: 0.8916\n",
            "Epoch 26/150\n",
            "1899/1899 [==============================] - 4s 2ms/step - loss: 0.2533 - accuracy: 0.8937\n",
            "Epoch 27/150\n",
            "1899/1899 [==============================] - 4s 2ms/step - loss: 0.2584 - accuracy: 0.8936\n",
            "Epoch 28/150\n",
            "1899/1899 [==============================] - 4s 2ms/step - loss: 0.2537 - accuracy: 0.8938\n",
            "Epoch 29/150\n",
            "1899/1899 [==============================] - 4s 2ms/step - loss: 0.2535 - accuracy: 0.8936\n",
            "Epoch 30/150\n",
            "1899/1899 [==============================] - 4s 2ms/step - loss: 0.2545 - accuracy: 0.8941\n",
            "Epoch 31/150\n",
            "1899/1899 [==============================] - 4s 2ms/step - loss: 0.2552 - accuracy: 0.8945\n",
            "Epoch 32/150\n",
            "1899/1899 [==============================] - 4s 2ms/step - loss: 0.2515 - accuracy: 0.8961\n",
            "Epoch 33/150\n",
            "1899/1899 [==============================] - 4s 2ms/step - loss: 0.2504 - accuracy: 0.8947\n",
            "Epoch 34/150\n",
            "1899/1899 [==============================] - 4s 2ms/step - loss: 0.2545 - accuracy: 0.8931\n",
            "Epoch 35/150\n",
            "1899/1899 [==============================] - 4s 2ms/step - loss: 0.2518 - accuracy: 0.8941\n",
            "Epoch 36/150\n",
            "1899/1899 [==============================] - 4s 2ms/step - loss: 0.2528 - accuracy: 0.8957\n",
            "Epoch 37/150\n",
            "1899/1899 [==============================] - 4s 2ms/step - loss: 0.2501 - accuracy: 0.8926\n",
            "Epoch 38/150\n",
            "1899/1899 [==============================] - 4s 2ms/step - loss: 0.2471 - accuracy: 0.8952\n",
            "Epoch 39/150\n",
            "1899/1899 [==============================] - 4s 2ms/step - loss: 0.2481 - accuracy: 0.8957\n",
            "Epoch 40/150\n",
            "1899/1899 [==============================] - 4s 2ms/step - loss: 0.2664 - accuracy: 0.8942\n",
            "Epoch 41/150\n",
            "1899/1899 [==============================] - 4s 2ms/step - loss: 0.2481 - accuracy: 0.8940\n",
            "Epoch 42/150\n",
            "1899/1899 [==============================] - 4s 2ms/step - loss: 0.2471 - accuracy: 0.8954\n",
            "Epoch 43/150\n",
            "1899/1899 [==============================] - 4s 2ms/step - loss: 0.2554 - accuracy: 0.8954\n",
            "Epoch 44/150\n",
            "1899/1899 [==============================] - 4s 2ms/step - loss: 0.2533 - accuracy: 0.8967\n",
            "Epoch 45/150\n",
            "1899/1899 [==============================] - 4s 2ms/step - loss: 0.2476 - accuracy: 0.8950\n",
            "Epoch 46/150\n",
            "1899/1899 [==============================] - 4s 2ms/step - loss: 0.2457 - accuracy: 0.8970\n",
            "Epoch 47/150\n",
            "1899/1899 [==============================] - 4s 2ms/step - loss: 0.2464 - accuracy: 0.8964\n",
            "Epoch 48/150\n",
            "1899/1899 [==============================] - 4s 2ms/step - loss: 0.2469 - accuracy: 0.8956\n",
            "Epoch 49/150\n",
            "1899/1899 [==============================] - 4s 2ms/step - loss: 0.2483 - accuracy: 0.8959\n",
            "Epoch 50/150\n",
            "1899/1899 [==============================] - 4s 2ms/step - loss: 0.2458 - accuracy: 0.8957\n",
            "Epoch 51/150\n",
            "1899/1899 [==============================] - 4s 2ms/step - loss: 0.2453 - accuracy: 0.8958\n",
            "Epoch 52/150\n",
            "1899/1899 [==============================] - 4s 2ms/step - loss: 0.2473 - accuracy: 0.8956\n",
            "Epoch 53/150\n",
            "1899/1899 [==============================] - 4s 2ms/step - loss: 0.2498 - accuracy: 0.8957\n",
            "Epoch 54/150\n",
            "1899/1899 [==============================] - 4s 2ms/step - loss: 0.2489 - accuracy: 0.8951\n",
            "Epoch 55/150\n",
            "1899/1899 [==============================] - 4s 2ms/step - loss: 0.2495 - accuracy: 0.8969\n",
            "Epoch 56/150\n",
            "1899/1899 [==============================] - 4s 2ms/step - loss: 0.2529 - accuracy: 0.8965\n",
            "Epoch 57/150\n",
            "1899/1899 [==============================] - 4s 2ms/step - loss: 0.2522 - accuracy: 0.8950\n",
            "Epoch 58/150\n",
            "1899/1899 [==============================] - 5s 2ms/step - loss: 0.2467 - accuracy: 0.8949\n",
            "Epoch 59/150\n",
            "1899/1899 [==============================] - 4s 2ms/step - loss: 0.2550 - accuracy: 0.8950\n",
            "Epoch 60/150\n",
            "1899/1899 [==============================] - 4s 2ms/step - loss: 0.2502 - accuracy: 0.8956\n",
            "Epoch 61/150\n",
            "1899/1899 [==============================] - 4s 2ms/step - loss: 0.2499 - accuracy: 0.8942\n",
            "Epoch 62/150\n",
            "1899/1899 [==============================] - 4s 2ms/step - loss: 0.2452 - accuracy: 0.8963\n",
            "Epoch 63/150\n",
            "1899/1899 [==============================] - 4s 2ms/step - loss: 0.2452 - accuracy: 0.8963\n",
            "Epoch 64/150\n",
            "1899/1899 [==============================] - 4s 2ms/step - loss: 0.2569 - accuracy: 0.8946\n",
            "Epoch 65/150\n",
            "1899/1899 [==============================] - 4s 2ms/step - loss: 0.3200 - accuracy: 0.8938\n",
            "Epoch 66/150\n",
            "1899/1899 [==============================] - 4s 2ms/step - loss: 0.2494 - accuracy: 0.8941\n",
            "Epoch 67/150\n",
            "1899/1899 [==============================] - 4s 2ms/step - loss: 0.2463 - accuracy: 0.8952\n",
            "Epoch 68/150\n",
            "1899/1899 [==============================] - 4s 2ms/step - loss: 0.2459 - accuracy: 0.8951\n",
            "Epoch 69/150\n",
            "1899/1899 [==============================] - 4s 2ms/step - loss: 0.2479 - accuracy: 0.8948\n",
            "Epoch 70/150\n",
            "1899/1899 [==============================] - 4s 2ms/step - loss: 0.2582 - accuracy: 0.8958\n",
            "Epoch 71/150\n",
            "1899/1899 [==============================] - 4s 2ms/step - loss: 0.2464 - accuracy: 0.8945\n",
            "Epoch 72/150\n",
            "1899/1899 [==============================] - 4s 2ms/step - loss: 0.2457 - accuracy: 0.8952\n",
            "Epoch 73/150\n",
            "1899/1899 [==============================] - 4s 2ms/step - loss: 0.2448 - accuracy: 0.8961\n",
            "Epoch 74/150\n",
            "1899/1899 [==============================] - 4s 2ms/step - loss: 0.2462 - accuracy: 0.8952\n",
            "Epoch 75/150\n",
            "1899/1899 [==============================] - 4s 2ms/step - loss: 0.2452 - accuracy: 0.8968\n",
            "Epoch 76/150\n",
            "1899/1899 [==============================] - 4s 2ms/step - loss: 0.2466 - accuracy: 0.8943\n",
            "Epoch 77/150\n",
            "1899/1899 [==============================] - 4s 2ms/step - loss: 0.2453 - accuracy: 0.8957\n",
            "Epoch 78/150\n",
            "1899/1899 [==============================] - 4s 2ms/step - loss: 0.2470 - accuracy: 0.8954\n",
            "Epoch 79/150\n",
            "1899/1899 [==============================] - 4s 2ms/step - loss: 0.2504 - accuracy: 0.8950\n",
            "Epoch 80/150\n",
            "1899/1899 [==============================] - 4s 2ms/step - loss: 0.2542 - accuracy: 0.8972\n",
            "Epoch 81/150\n",
            "1899/1899 [==============================] - 4s 2ms/step - loss: 0.2461 - accuracy: 0.8947\n",
            "Epoch 82/150\n",
            "1899/1899 [==============================] - 4s 2ms/step - loss: 0.2582 - accuracy: 0.8957\n",
            "Epoch 83/150\n",
            "1899/1899 [==============================] - 4s 2ms/step - loss: 0.2457 - accuracy: 0.8947\n",
            "Epoch 84/150\n",
            "1899/1899 [==============================] - 5s 2ms/step - loss: 0.2453 - accuracy: 0.8949\n",
            "Epoch 85/150\n",
            "1899/1899 [==============================] - 5s 3ms/step - loss: 0.2488 - accuracy: 0.8943\n",
            "Epoch 86/150\n",
            "1899/1899 [==============================] - 5s 3ms/step - loss: 0.2549 - accuracy: 0.8961\n",
            "Epoch 87/150\n",
            "1899/1899 [==============================] - 4s 2ms/step - loss: 0.2467 - accuracy: 0.8951\n",
            "Epoch 88/150\n",
            "1899/1899 [==============================] - 4s 2ms/step - loss: 0.2487 - accuracy: 0.8978\n",
            "Epoch 89/150\n",
            "1899/1899 [==============================] - 4s 2ms/step - loss: 0.2445 - accuracy: 0.8964\n",
            "Epoch 90/150\n",
            "1899/1899 [==============================] - 4s 2ms/step - loss: 0.2489 - accuracy: 0.8970\n",
            "Epoch 91/150\n",
            "1899/1899 [==============================] - 4s 2ms/step - loss: 0.2452 - accuracy: 0.8955\n",
            "Epoch 92/150\n",
            "1899/1899 [==============================] - 4s 2ms/step - loss: 0.2567 - accuracy: 0.8969\n",
            "Epoch 93/150\n",
            "1899/1899 [==============================] - 4s 2ms/step - loss: 0.2435 - accuracy: 0.8972\n",
            "Epoch 94/150\n",
            "1899/1899 [==============================] - 4s 2ms/step - loss: 0.2707 - accuracy: 0.8949\n",
            "Epoch 95/150\n",
            "1899/1899 [==============================] - 4s 2ms/step - loss: 0.2438 - accuracy: 0.8972\n",
            "Epoch 96/150\n",
            "1899/1899 [==============================] - 4s 2ms/step - loss: 0.2447 - accuracy: 0.8955\n",
            "Epoch 97/150\n",
            "1899/1899 [==============================] - 4s 2ms/step - loss: 0.2444 - accuracy: 0.8962\n",
            "Epoch 98/150\n",
            "1899/1899 [==============================] - 4s 2ms/step - loss: 0.2436 - accuracy: 0.8970\n",
            "Epoch 99/150\n",
            "1899/1899 [==============================] - 4s 2ms/step - loss: 0.2428 - accuracy: 0.8979\n",
            "Epoch 100/150\n",
            "1899/1899 [==============================] - 4s 2ms/step - loss: 0.2452 - accuracy: 0.8975\n",
            "Epoch 101/150\n",
            "1899/1899 [==============================] - 4s 2ms/step - loss: 0.2443 - accuracy: 0.8952\n",
            "Epoch 102/150\n",
            "1899/1899 [==============================] - 4s 2ms/step - loss: 0.2445 - accuracy: 0.8970\n",
            "Epoch 103/150\n",
            "1899/1899 [==============================] - 4s 2ms/step - loss: 0.2468 - accuracy: 0.8957\n",
            "Epoch 104/150\n",
            "1899/1899 [==============================] - 4s 2ms/step - loss: 0.2575 - accuracy: 0.8966\n",
            "Epoch 105/150\n",
            "1899/1899 [==============================] - 4s 2ms/step - loss: 0.2449 - accuracy: 0.8953\n",
            "Epoch 106/150\n",
            "1899/1899 [==============================] - 4s 2ms/step - loss: 0.2438 - accuracy: 0.8959\n",
            "Epoch 107/150\n",
            "1899/1899 [==============================] - 4s 2ms/step - loss: 0.2465 - accuracy: 0.8951\n",
            "Epoch 108/150\n",
            "1899/1899 [==============================] - 4s 2ms/step - loss: 0.2584 - accuracy: 0.8950\n",
            "Epoch 109/150\n",
            "1899/1899 [==============================] - 4s 2ms/step - loss: 0.2431 - accuracy: 0.8978\n",
            "Epoch 110/150\n",
            "1899/1899 [==============================] - 4s 2ms/step - loss: 0.2485 - accuracy: 0.8959\n",
            "Epoch 111/150\n",
            "1899/1899 [==============================] - 4s 2ms/step - loss: 0.2449 - accuracy: 0.8975\n",
            "Epoch 112/150\n",
            "1899/1899 [==============================] - 4s 2ms/step - loss: 0.2471 - accuracy: 0.8963\n",
            "Epoch 113/150\n",
            "1899/1899 [==============================] - 4s 2ms/step - loss: 0.2577 - accuracy: 0.8958\n",
            "Epoch 114/150\n",
            "1899/1899 [==============================] - 4s 2ms/step - loss: 0.2436 - accuracy: 0.8950\n",
            "Epoch 115/150\n",
            "1899/1899 [==============================] - 4s 2ms/step - loss: 0.2433 - accuracy: 0.8968\n",
            "Epoch 116/150\n",
            "1899/1899 [==============================] - 4s 2ms/step - loss: 0.2542 - accuracy: 0.8989\n",
            "Epoch 117/150\n",
            "1899/1899 [==============================] - 4s 2ms/step - loss: 0.2442 - accuracy: 0.8971\n",
            "Epoch 118/150\n",
            "1899/1899 [==============================] - 4s 2ms/step - loss: 0.2442 - accuracy: 0.8955\n",
            "Epoch 119/150\n",
            "1899/1899 [==============================] - 4s 2ms/step - loss: 0.2491 - accuracy: 0.8964\n",
            "Epoch 120/150\n",
            "1899/1899 [==============================] - 4s 2ms/step - loss: 0.2422 - accuracy: 0.8967\n",
            "Epoch 121/150\n",
            "1899/1899 [==============================] - 4s 2ms/step - loss: 0.2435 - accuracy: 0.8977\n",
            "Epoch 122/150\n",
            "1899/1899 [==============================] - 4s 2ms/step - loss: 0.2432 - accuracy: 0.8958\n",
            "Epoch 123/150\n",
            "1899/1899 [==============================] - 4s 2ms/step - loss: 0.2418 - accuracy: 0.8966\n",
            "Epoch 124/150\n",
            "1899/1899 [==============================] - 4s 2ms/step - loss: 0.2497 - accuracy: 0.8971\n",
            "Epoch 125/150\n",
            "1899/1899 [==============================] - 4s 2ms/step - loss: 0.2455 - accuracy: 0.8948\n",
            "Epoch 126/150\n",
            "1899/1899 [==============================] - 4s 2ms/step - loss: 0.2588 - accuracy: 0.8960\n",
            "Epoch 127/150\n",
            "1899/1899 [==============================] - 4s 2ms/step - loss: 0.2438 - accuracy: 0.8961\n",
            "Epoch 128/150\n",
            "1899/1899 [==============================] - 5s 2ms/step - loss: 0.2631 - accuracy: 0.8968\n",
            "Epoch 129/150\n",
            "1899/1899 [==============================] - 4s 2ms/step - loss: 0.2492 - accuracy: 0.8943\n",
            "Epoch 130/150\n",
            "1899/1899 [==============================] - 4s 2ms/step - loss: 0.2838 - accuracy: 0.8947\n",
            "Epoch 131/150\n",
            "1899/1899 [==============================] - 4s 2ms/step - loss: 0.2437 - accuracy: 0.8962\n",
            "Epoch 132/150\n",
            "1899/1899 [==============================] - 4s 2ms/step - loss: 0.2436 - accuracy: 0.8959\n",
            "Epoch 133/150\n",
            "1899/1899 [==============================] - 4s 2ms/step - loss: 0.2437 - accuracy: 0.8958\n",
            "Epoch 134/150\n",
            "1899/1899 [==============================] - 4s 2ms/step - loss: 0.2433 - accuracy: 0.8965\n",
            "Epoch 135/150\n",
            "1899/1899 [==============================] - 4s 2ms/step - loss: 0.2428 - accuracy: 0.8960\n",
            "Epoch 136/150\n",
            "1899/1899 [==============================] - 4s 2ms/step - loss: 0.2427 - accuracy: 0.8976\n",
            "Epoch 137/150\n",
            "1899/1899 [==============================] - 4s 2ms/step - loss: 0.2413 - accuracy: 0.8964\n",
            "Epoch 138/150\n",
            "1899/1899 [==============================] - 4s 2ms/step - loss: 0.2432 - accuracy: 0.8971\n",
            "Epoch 139/150\n",
            "1899/1899 [==============================] - 4s 2ms/step - loss: 0.2457 - accuracy: 0.8956\n",
            "Epoch 140/150\n",
            "1899/1899 [==============================] - 4s 2ms/step - loss: 0.2441 - accuracy: 0.8957\n",
            "Epoch 141/150\n",
            "1899/1899 [==============================] - 4s 2ms/step - loss: 0.2484 - accuracy: 0.8959\n",
            "Epoch 142/150\n",
            "1899/1899 [==============================] - 4s 2ms/step - loss: 0.2436 - accuracy: 0.8970\n",
            "Epoch 143/150\n",
            "1899/1899 [==============================] - 4s 2ms/step - loss: 0.2472 - accuracy: 0.8955\n",
            "Epoch 144/150\n",
            "1899/1899 [==============================] - 4s 2ms/step - loss: 0.2430 - accuracy: 0.8961\n",
            "Epoch 145/150\n",
            "1899/1899 [==============================] - 4s 2ms/step - loss: 0.2569 - accuracy: 0.8975\n",
            "Epoch 146/150\n",
            "1899/1899 [==============================] - 4s 2ms/step - loss: 0.2413 - accuracy: 0.8975\n",
            "Epoch 147/150\n",
            "1899/1899 [==============================] - 4s 2ms/step - loss: 0.2596 - accuracy: 0.8974\n",
            "Epoch 148/150\n",
            "1899/1899 [==============================] - 4s 2ms/step - loss: 0.2420 - accuracy: 0.8974\n",
            "Epoch 149/150\n",
            "1899/1899 [==============================] - 4s 2ms/step - loss: 0.2419 - accuracy: 0.8972\n",
            "Epoch 150/150\n",
            "1899/1899 [==============================] - 4s 2ms/step - loss: 0.2422 - accuracy: 0.8965\n"
          ],
          "name": "stdout"
        },
        {
          "output_type": "execute_result",
          "data": {
            "text/plain": [
              "<tensorflow.python.keras.callbacks.History at 0x7fe95011ccf8>"
            ]
          },
          "metadata": {
            "tags": []
          },
          "execution_count": 19
        }
      ]
    },
    {
      "cell_type": "code",
      "metadata": {
        "id": "aYwz8YBwX6CL"
      },
      "source": [
        "model1 = Sequential()\n",
        "model1.add(Dense(200, input_dim=26, activation='relu'))\n",
        "model1.add(Dense(105, activation='sigmoid'))\n",
        "model1.add(Dense(1, activation='sigmoid'))"
      ],
      "execution_count": null,
      "outputs": []
    },
    {
      "cell_type": "code",
      "metadata": {
        "id": "GqZGdepsX6AV"
      },
      "source": [
        "model1.compile(loss='binary_crossentropy', optimizer='adam', metrics=['accuracy'])"
      ],
      "execution_count": null,
      "outputs": []
    },
    {
      "cell_type": "code",
      "metadata": {
        "colab": {
          "base_uri": "https://localhost:8080/"
        },
        "id": "xTi68ebUX5--",
        "outputId": "a8ad20cc-2f1b-4026-c059-848e2f35d76d"
      },
      "source": [
        "model1.fit(x_train, y_train, epochs=200, batch_size=10)"
      ],
      "execution_count": null,
      "outputs": [
        {
          "output_type": "stream",
          "text": [
            "Epoch 1/200\n",
            "1899/1899 [==============================] - 4s 2ms/step - loss: 0.3639 - accuracy: 0.8826\n",
            "Epoch 2/200\n",
            "1899/1899 [==============================] - 4s 2ms/step - loss: 0.3587 - accuracy: 0.8847\n",
            "Epoch 3/200\n",
            "1899/1899 [==============================] - 4s 2ms/step - loss: 0.3583 - accuracy: 0.8847\n",
            "Epoch 4/200\n",
            "1899/1899 [==============================] - 4s 2ms/step - loss: 0.3583 - accuracy: 0.8847\n",
            "Epoch 5/200\n",
            "1899/1899 [==============================] - 4s 2ms/step - loss: 0.3584 - accuracy: 0.8847\n",
            "Epoch 6/200\n",
            "1899/1899 [==============================] - 4s 2ms/step - loss: 0.3583 - accuracy: 0.8847\n",
            "Epoch 7/200\n",
            "1899/1899 [==============================] - 4s 2ms/step - loss: 0.3585 - accuracy: 0.8847\n",
            "Epoch 8/200\n",
            "1899/1899 [==============================] - 4s 2ms/step - loss: 0.3583 - accuracy: 0.8847\n",
            "Epoch 9/200\n",
            "1899/1899 [==============================] - 4s 2ms/step - loss: 0.3587 - accuracy: 0.8847\n",
            "Epoch 10/200\n",
            "1899/1899 [==============================] - 4s 2ms/step - loss: 0.3584 - accuracy: 0.8847\n",
            "Epoch 11/200\n",
            "1899/1899 [==============================] - 4s 2ms/step - loss: 0.3585 - accuracy: 0.8847\n",
            "Epoch 12/200\n",
            "1899/1899 [==============================] - 4s 2ms/step - loss: 0.3588 - accuracy: 0.8847\n",
            "Epoch 13/200\n",
            "1899/1899 [==============================] - 4s 2ms/step - loss: 0.3585 - accuracy: 0.8847\n",
            "Epoch 14/200\n",
            "1899/1899 [==============================] - 4s 2ms/step - loss: 0.3588 - accuracy: 0.8847\n",
            "Epoch 15/200\n",
            "1899/1899 [==============================] - 4s 2ms/step - loss: 0.3583 - accuracy: 0.8847\n",
            "Epoch 16/200\n",
            "1899/1899 [==============================] - 4s 2ms/step - loss: 0.3582 - accuracy: 0.8847\n",
            "Epoch 17/200\n",
            "1899/1899 [==============================] - 4s 2ms/step - loss: 0.3587 - accuracy: 0.8847\n",
            "Epoch 18/200\n",
            "1899/1899 [==============================] - 4s 2ms/step - loss: 0.3587 - accuracy: 0.8847\n",
            "Epoch 19/200\n",
            "1899/1899 [==============================] - 4s 2ms/step - loss: 0.3586 - accuracy: 0.8847\n",
            "Epoch 20/200\n",
            "1899/1899 [==============================] - 4s 2ms/step - loss: 0.3581 - accuracy: 0.8847\n",
            "Epoch 21/200\n",
            "1899/1899 [==============================] - 4s 2ms/step - loss: 0.3588 - accuracy: 0.8847\n",
            "Epoch 22/200\n",
            "1899/1899 [==============================] - 4s 2ms/step - loss: 0.3582 - accuracy: 0.8847\n",
            "Epoch 23/200\n",
            "1899/1899 [==============================] - 4s 2ms/step - loss: 0.3585 - accuracy: 0.8847\n",
            "Epoch 24/200\n",
            "1899/1899 [==============================] - 4s 2ms/step - loss: 0.3585 - accuracy: 0.8847\n",
            "Epoch 25/200\n",
            "1899/1899 [==============================] - 4s 2ms/step - loss: 0.3589 - accuracy: 0.8847\n",
            "Epoch 26/200\n",
            "1899/1899 [==============================] - 4s 2ms/step - loss: 0.3586 - accuracy: 0.8847\n",
            "Epoch 27/200\n",
            "1899/1899 [==============================] - 4s 2ms/step - loss: 0.3586 - accuracy: 0.8847\n",
            "Epoch 28/200\n",
            "1899/1899 [==============================] - 4s 2ms/step - loss: 0.3585 - accuracy: 0.8847\n",
            "Epoch 29/200\n",
            "1899/1899 [==============================] - 4s 2ms/step - loss: 0.3584 - accuracy: 0.8847\n",
            "Epoch 30/200\n",
            "1899/1899 [==============================] - 4s 2ms/step - loss: 0.3586 - accuracy: 0.8847\n",
            "Epoch 31/200\n",
            "1899/1899 [==============================] - 4s 2ms/step - loss: 0.3584 - accuracy: 0.8847\n",
            "Epoch 32/200\n",
            "1899/1899 [==============================] - 4s 2ms/step - loss: 0.3584 - accuracy: 0.8847\n",
            "Epoch 33/200\n",
            "1899/1899 [==============================] - 4s 2ms/step - loss: 0.3586 - accuracy: 0.8847\n",
            "Epoch 34/200\n",
            "1899/1899 [==============================] - 4s 2ms/step - loss: 0.3584 - accuracy: 0.8847\n",
            "Epoch 35/200\n",
            "1899/1899 [==============================] - 4s 2ms/step - loss: 0.3583 - accuracy: 0.8847\n",
            "Epoch 36/200\n",
            "1899/1899 [==============================] - 4s 2ms/step - loss: 0.3586 - accuracy: 0.8847\n",
            "Epoch 37/200\n",
            "1899/1899 [==============================] - 5s 2ms/step - loss: 0.3584 - accuracy: 0.8847\n",
            "Epoch 38/200\n",
            "1899/1899 [==============================] - 5s 3ms/step - loss: 0.3582 - accuracy: 0.8847\n",
            "Epoch 39/200\n",
            "1899/1899 [==============================] - 5s 2ms/step - loss: 0.3586 - accuracy: 0.8847\n",
            "Epoch 40/200\n",
            "1899/1899 [==============================] - 4s 2ms/step - loss: 0.3584 - accuracy: 0.8847\n",
            "Epoch 41/200\n",
            "1899/1899 [==============================] - 4s 2ms/step - loss: 0.3585 - accuracy: 0.8847\n",
            "Epoch 42/200\n",
            "1899/1899 [==============================] - 4s 2ms/step - loss: 0.3586 - accuracy: 0.8847\n",
            "Epoch 43/200\n",
            "1899/1899 [==============================] - 4s 2ms/step - loss: 0.3584 - accuracy: 0.8847\n",
            "Epoch 44/200\n",
            "1899/1899 [==============================] - 4s 2ms/step - loss: 0.3582 - accuracy: 0.8847\n",
            "Epoch 45/200\n",
            "1899/1899 [==============================] - 4s 2ms/step - loss: 0.3586 - accuracy: 0.8847\n",
            "Epoch 46/200\n",
            "1899/1899 [==============================] - 4s 2ms/step - loss: 0.3586 - accuracy: 0.8847\n",
            "Epoch 47/200\n",
            "1899/1899 [==============================] - 4s 2ms/step - loss: 0.3587 - accuracy: 0.8847\n",
            "Epoch 48/200\n",
            "1899/1899 [==============================] - 4s 2ms/step - loss: 0.3587 - accuracy: 0.8847\n",
            "Epoch 49/200\n",
            "1899/1899 [==============================] - 4s 2ms/step - loss: 0.3586 - accuracy: 0.8847\n",
            "Epoch 50/200\n",
            "1899/1899 [==============================] - 4s 2ms/step - loss: 0.3585 - accuracy: 0.8847\n",
            "Epoch 51/200\n",
            "1899/1899 [==============================] - 4s 2ms/step - loss: 0.3584 - accuracy: 0.8847\n",
            "Epoch 52/200\n",
            "1899/1899 [==============================] - 4s 2ms/step - loss: 0.3586 - accuracy: 0.8847\n",
            "Epoch 53/200\n",
            "1899/1899 [==============================] - 4s 2ms/step - loss: 0.3586 - accuracy: 0.8847\n",
            "Epoch 54/200\n",
            "1899/1899 [==============================] - 4s 2ms/step - loss: 0.3589 - accuracy: 0.8847\n",
            "Epoch 55/200\n",
            "1899/1899 [==============================] - 4s 2ms/step - loss: 0.3587 - accuracy: 0.8847\n",
            "Epoch 56/200\n",
            "1899/1899 [==============================] - 4s 2ms/step - loss: 0.3587 - accuracy: 0.8847\n",
            "Epoch 57/200\n",
            "1899/1899 [==============================] - 4s 2ms/step - loss: 0.3581 - accuracy: 0.8847\n",
            "Epoch 58/200\n",
            "1899/1899 [==============================] - 4s 2ms/step - loss: 0.3584 - accuracy: 0.8847\n",
            "Epoch 59/200\n",
            "1899/1899 [==============================] - 4s 2ms/step - loss: 0.3587 - accuracy: 0.8847\n",
            "Epoch 60/200\n",
            "1899/1899 [==============================] - 4s 2ms/step - loss: 0.3585 - accuracy: 0.8847\n",
            "Epoch 61/200\n",
            "1899/1899 [==============================] - 4s 2ms/step - loss: 0.3587 - accuracy: 0.8847\n",
            "Epoch 62/200\n",
            "1899/1899 [==============================] - 5s 2ms/step - loss: 0.3587 - accuracy: 0.8847\n",
            "Epoch 63/200\n",
            "1899/1899 [==============================] - 4s 2ms/step - loss: 0.3583 - accuracy: 0.8847\n",
            "Epoch 64/200\n",
            "1899/1899 [==============================] - 4s 2ms/step - loss: 0.3584 - accuracy: 0.8847\n",
            "Epoch 65/200\n",
            "1899/1899 [==============================] - 4s 2ms/step - loss: 0.3584 - accuracy: 0.8847\n",
            "Epoch 66/200\n",
            "1899/1899 [==============================] - 4s 2ms/step - loss: 0.3584 - accuracy: 0.8847\n",
            "Epoch 67/200\n",
            "1899/1899 [==============================] - 4s 2ms/step - loss: 0.3585 - accuracy: 0.8847\n",
            "Epoch 68/200\n",
            "1899/1899 [==============================] - 4s 2ms/step - loss: 0.3585 - accuracy: 0.8847\n",
            "Epoch 69/200\n",
            "1899/1899 [==============================] - 4s 2ms/step - loss: 0.3585 - accuracy: 0.8847\n",
            "Epoch 70/200\n",
            "1899/1899 [==============================] - 4s 2ms/step - loss: 0.3586 - accuracy: 0.8847\n",
            "Epoch 71/200\n",
            "1899/1899 [==============================] - 4s 2ms/step - loss: 0.3587 - accuracy: 0.8847\n",
            "Epoch 72/200\n",
            "1899/1899 [==============================] - 4s 2ms/step - loss: 0.3585 - accuracy: 0.8847\n",
            "Epoch 73/200\n",
            "1899/1899 [==============================] - 4s 2ms/step - loss: 0.3586 - accuracy: 0.8847\n",
            "Epoch 74/200\n",
            "1899/1899 [==============================] - 4s 2ms/step - loss: 0.3586 - accuracy: 0.8847\n",
            "Epoch 75/200\n",
            "1899/1899 [==============================] - 4s 2ms/step - loss: 0.3585 - accuracy: 0.8847\n",
            "Epoch 76/200\n",
            "1899/1899 [==============================] - 4s 2ms/step - loss: 0.3585 - accuracy: 0.8847\n",
            "Epoch 77/200\n",
            "1899/1899 [==============================] - 4s 2ms/step - loss: 0.3583 - accuracy: 0.8847\n",
            "Epoch 78/200\n",
            "1899/1899 [==============================] - 4s 2ms/step - loss: 0.3586 - accuracy: 0.8847\n",
            "Epoch 79/200\n",
            "1899/1899 [==============================] - 4s 2ms/step - loss: 0.3585 - accuracy: 0.8847\n",
            "Epoch 80/200\n",
            "1899/1899 [==============================] - 4s 2ms/step - loss: 0.3582 - accuracy: 0.8847\n",
            "Epoch 81/200\n",
            "1899/1899 [==============================] - 4s 2ms/step - loss: 0.3586 - accuracy: 0.8847\n",
            "Epoch 82/200\n",
            "1899/1899 [==============================] - 4s 2ms/step - loss: 0.3581 - accuracy: 0.8847\n",
            "Epoch 83/200\n",
            "1899/1899 [==============================] - 4s 2ms/step - loss: 0.3585 - accuracy: 0.8847\n",
            "Epoch 84/200\n",
            "1899/1899 [==============================] - 4s 2ms/step - loss: 0.3584 - accuracy: 0.8847\n",
            "Epoch 85/200\n",
            "1899/1899 [==============================] - 4s 2ms/step - loss: 0.3586 - accuracy: 0.8847\n",
            "Epoch 86/200\n",
            "1899/1899 [==============================] - 4s 2ms/step - loss: 0.3587 - accuracy: 0.8847\n",
            "Epoch 87/200\n",
            "1899/1899 [==============================] - 4s 2ms/step - loss: 0.3585 - accuracy: 0.8847\n",
            "Epoch 88/200\n",
            "1899/1899 [==============================] - 4s 2ms/step - loss: 0.3585 - accuracy: 0.8847\n",
            "Epoch 89/200\n",
            "1899/1899 [==============================] - 4s 2ms/step - loss: 0.3587 - accuracy: 0.8847\n",
            "Epoch 90/200\n",
            "1899/1899 [==============================] - 4s 2ms/step - loss: 0.3586 - accuracy: 0.8847\n",
            "Epoch 91/200\n",
            "1899/1899 [==============================] - 4s 2ms/step - loss: 0.3584 - accuracy: 0.8847\n",
            "Epoch 92/200\n",
            "1899/1899 [==============================] - 4s 2ms/step - loss: 0.3583 - accuracy: 0.8847\n",
            "Epoch 93/200\n",
            "1899/1899 [==============================] - 4s 2ms/step - loss: 0.3587 - accuracy: 0.8847\n",
            "Epoch 94/200\n",
            "1899/1899 [==============================] - 4s 2ms/step - loss: 0.3585 - accuracy: 0.8847\n",
            "Epoch 95/200\n",
            "1899/1899 [==============================] - 4s 2ms/step - loss: 0.3582 - accuracy: 0.8847\n",
            "Epoch 96/200\n",
            "1899/1899 [==============================] - 4s 2ms/step - loss: 0.3583 - accuracy: 0.8847\n",
            "Epoch 97/200\n",
            "1899/1899 [==============================] - 4s 2ms/step - loss: 0.3588 - accuracy: 0.8847\n",
            "Epoch 98/200\n",
            "1899/1899 [==============================] - 4s 2ms/step - loss: 0.3583 - accuracy: 0.8847\n",
            "Epoch 99/200\n",
            "1899/1899 [==============================] - 4s 2ms/step - loss: 0.3583 - accuracy: 0.8847\n",
            "Epoch 100/200\n",
            "1899/1899 [==============================] - 4s 2ms/step - loss: 0.3585 - accuracy: 0.8847\n",
            "Epoch 101/200\n",
            "1899/1899 [==============================] - 4s 2ms/step - loss: 0.3586 - accuracy: 0.8847\n",
            "Epoch 102/200\n",
            "1899/1899 [==============================] - 4s 2ms/step - loss: 0.3583 - accuracy: 0.8847\n",
            "Epoch 103/200\n",
            "1899/1899 [==============================] - 4s 2ms/step - loss: 0.3585 - accuracy: 0.8847\n",
            "Epoch 104/200\n",
            "1899/1899 [==============================] - 4s 2ms/step - loss: 0.3584 - accuracy: 0.8847\n",
            "Epoch 105/200\n",
            "1899/1899 [==============================] - 4s 2ms/step - loss: 0.3587 - accuracy: 0.8847\n",
            "Epoch 106/200\n",
            "1899/1899 [==============================] - 4s 2ms/step - loss: 0.3584 - accuracy: 0.8847\n",
            "Epoch 107/200\n",
            "1899/1899 [==============================] - 4s 2ms/step - loss: 0.3587 - accuracy: 0.8847\n",
            "Epoch 108/200\n",
            "1899/1899 [==============================] - 5s 2ms/step - loss: 0.3584 - accuracy: 0.8847\n",
            "Epoch 109/200\n",
            "1899/1899 [==============================] - 5s 3ms/step - loss: 0.3583 - accuracy: 0.8847\n",
            "Epoch 110/200\n",
            "1899/1899 [==============================] - 5s 2ms/step - loss: 0.3583 - accuracy: 0.8847\n",
            "Epoch 111/200\n",
            "1899/1899 [==============================] - 4s 2ms/step - loss: 0.3586 - accuracy: 0.8847\n",
            "Epoch 112/200\n",
            "1899/1899 [==============================] - 4s 2ms/step - loss: 0.3586 - accuracy: 0.8847\n",
            "Epoch 113/200\n",
            "1899/1899 [==============================] - 4s 2ms/step - loss: 0.3583 - accuracy: 0.8847\n",
            "Epoch 114/200\n",
            "1899/1899 [==============================] - 4s 2ms/step - loss: 0.3584 - accuracy: 0.8847\n",
            "Epoch 115/200\n",
            "1899/1899 [==============================] - 4s 2ms/step - loss: 0.3581 - accuracy: 0.8847\n",
            "Epoch 116/200\n",
            "1899/1899 [==============================] - 4s 2ms/step - loss: 0.3588 - accuracy: 0.8847\n",
            "Epoch 117/200\n",
            "1899/1899 [==============================] - 4s 2ms/step - loss: 0.3584 - accuracy: 0.8847\n",
            "Epoch 118/200\n",
            "1899/1899 [==============================] - 4s 2ms/step - loss: 0.3585 - accuracy: 0.8847\n",
            "Epoch 119/200\n",
            "1899/1899 [==============================] - 4s 2ms/step - loss: 0.3587 - accuracy: 0.8847\n",
            "Epoch 120/200\n",
            "1899/1899 [==============================] - 4s 2ms/step - loss: 0.3583 - accuracy: 0.8847\n",
            "Epoch 121/200\n",
            "1899/1899 [==============================] - 4s 2ms/step - loss: 0.3584 - accuracy: 0.8847\n",
            "Epoch 122/200\n",
            "1899/1899 [==============================] - 4s 2ms/step - loss: 0.3582 - accuracy: 0.8847\n",
            "Epoch 123/200\n",
            "1899/1899 [==============================] - 4s 2ms/step - loss: 0.3586 - accuracy: 0.8847\n",
            "Epoch 124/200\n",
            "1899/1899 [==============================] - 4s 2ms/step - loss: 0.3586 - accuracy: 0.8847\n",
            "Epoch 125/200\n",
            "1899/1899 [==============================] - 4s 2ms/step - loss: 0.3586 - accuracy: 0.8847\n",
            "Epoch 126/200\n",
            "1899/1899 [==============================] - 4s 2ms/step - loss: 0.3587 - accuracy: 0.8847\n",
            "Epoch 127/200\n",
            "1899/1899 [==============================] - 4s 2ms/step - loss: 0.3586 - accuracy: 0.8847\n",
            "Epoch 128/200\n",
            "1899/1899 [==============================] - 4s 2ms/step - loss: 0.3587 - accuracy: 0.8847\n",
            "Epoch 129/200\n",
            "1899/1899 [==============================] - 4s 2ms/step - loss: 0.3581 - accuracy: 0.8847\n",
            "Epoch 130/200\n",
            "1899/1899 [==============================] - 4s 2ms/step - loss: 0.3585 - accuracy: 0.8847\n",
            "Epoch 131/200\n",
            "1899/1899 [==============================] - 4s 2ms/step - loss: 0.3586 - accuracy: 0.8847\n",
            "Epoch 132/200\n",
            "1899/1899 [==============================] - 5s 2ms/step - loss: 0.3580 - accuracy: 0.8847\n",
            "Epoch 133/200\n",
            "1899/1899 [==============================] - 4s 2ms/step - loss: 0.3584 - accuracy: 0.8847\n",
            "Epoch 134/200\n",
            "1899/1899 [==============================] - 4s 2ms/step - loss: 0.3584 - accuracy: 0.8847\n",
            "Epoch 135/200\n",
            "1899/1899 [==============================] - 4s 2ms/step - loss: 0.3583 - accuracy: 0.8847\n",
            "Epoch 136/200\n",
            "1899/1899 [==============================] - 4s 2ms/step - loss: 0.3586 - accuracy: 0.8847\n",
            "Epoch 137/200\n",
            "1899/1899 [==============================] - 4s 2ms/step - loss: 0.3589 - accuracy: 0.8847\n",
            "Epoch 138/200\n",
            "1899/1899 [==============================] - 4s 2ms/step - loss: 0.3583 - accuracy: 0.8847\n",
            "Epoch 139/200\n",
            "1899/1899 [==============================] - 4s 2ms/step - loss: 0.3582 - accuracy: 0.8847\n",
            "Epoch 140/200\n",
            "1899/1899 [==============================] - 4s 2ms/step - loss: 0.3584 - accuracy: 0.8847\n",
            "Epoch 141/200\n",
            "1899/1899 [==============================] - 4s 2ms/step - loss: 0.3585 - accuracy: 0.8847\n",
            "Epoch 142/200\n",
            "1899/1899 [==============================] - 4s 2ms/step - loss: 0.3585 - accuracy: 0.8847\n",
            "Epoch 143/200\n",
            "1899/1899 [==============================] - 4s 2ms/step - loss: 0.3584 - accuracy: 0.8847\n",
            "Epoch 144/200\n",
            "1899/1899 [==============================] - 4s 2ms/step - loss: 0.3583 - accuracy: 0.8847\n",
            "Epoch 145/200\n",
            "1899/1899 [==============================] - 4s 2ms/step - loss: 0.3586 - accuracy: 0.8847\n",
            "Epoch 146/200\n",
            "1899/1899 [==============================] - 4s 2ms/step - loss: 0.3584 - accuracy: 0.8847\n",
            "Epoch 147/200\n",
            "1899/1899 [==============================] - 4s 2ms/step - loss: 0.3584 - accuracy: 0.8847\n",
            "Epoch 148/200\n",
            "1899/1899 [==============================] - 4s 2ms/step - loss: 0.3583 - accuracy: 0.8847\n",
            "Epoch 149/200\n",
            "1899/1899 [==============================] - 4s 2ms/step - loss: 0.3584 - accuracy: 0.8847\n",
            "Epoch 150/200\n",
            "1899/1899 [==============================] - 4s 2ms/step - loss: 0.3585 - accuracy: 0.8847\n",
            "Epoch 151/200\n",
            "1899/1899 [==============================] - 4s 2ms/step - loss: 0.3581 - accuracy: 0.8847\n",
            "Epoch 152/200\n",
            "1899/1899 [==============================] - 4s 2ms/step - loss: 0.3586 - accuracy: 0.8847\n",
            "Epoch 153/200\n",
            "1899/1899 [==============================] - 4s 2ms/step - loss: 0.3586 - accuracy: 0.8847\n",
            "Epoch 154/200\n",
            "1899/1899 [==============================] - 4s 2ms/step - loss: 0.3582 - accuracy: 0.8847\n",
            "Epoch 155/200\n",
            "1899/1899 [==============================] - 4s 2ms/step - loss: 0.3585 - accuracy: 0.8847\n",
            "Epoch 156/200\n",
            "1899/1899 [==============================] - 4s 2ms/step - loss: 0.3585 - accuracy: 0.8847\n",
            "Epoch 157/200\n",
            "1899/1899 [==============================] - 4s 2ms/step - loss: 0.3586 - accuracy: 0.8847\n",
            "Epoch 158/200\n",
            "1899/1899 [==============================] - 4s 2ms/step - loss: 0.3585 - accuracy: 0.8847\n",
            "Epoch 159/200\n",
            "1899/1899 [==============================] - 4s 2ms/step - loss: 0.3584 - accuracy: 0.8847\n",
            "Epoch 160/200\n",
            "1899/1899 [==============================] - 4s 2ms/step - loss: 0.3585 - accuracy: 0.8847\n",
            "Epoch 161/200\n",
            "1899/1899 [==============================] - 4s 2ms/step - loss: 0.3588 - accuracy: 0.8847\n",
            "Epoch 162/200\n",
            "1899/1899 [==============================] - 4s 2ms/step - loss: 0.3584 - accuracy: 0.8847\n",
            "Epoch 163/200\n",
            "1899/1899 [==============================] - 4s 2ms/step - loss: 0.3582 - accuracy: 0.8847\n",
            "Epoch 164/200\n",
            "1899/1899 [==============================] - 4s 2ms/step - loss: 0.3585 - accuracy: 0.8847\n",
            "Epoch 165/200\n",
            "1899/1899 [==============================] - 4s 2ms/step - loss: 0.3584 - accuracy: 0.8847\n",
            "Epoch 166/200\n",
            "1899/1899 [==============================] - 4s 2ms/step - loss: 0.3586 - accuracy: 0.8847\n",
            "Epoch 167/200\n",
            "1899/1899 [==============================] - 4s 2ms/step - loss: 0.3583 - accuracy: 0.8847\n",
            "Epoch 168/200\n",
            "1899/1899 [==============================] - 4s 2ms/step - loss: 0.3587 - accuracy: 0.8847\n",
            "Epoch 169/200\n",
            "1899/1899 [==============================] - 4s 2ms/step - loss: 0.3586 - accuracy: 0.8847\n",
            "Epoch 170/200\n",
            "1899/1899 [==============================] - 4s 2ms/step - loss: 0.3586 - accuracy: 0.8847\n",
            "Epoch 171/200\n",
            "1899/1899 [==============================] - 4s 2ms/step - loss: 0.3585 - accuracy: 0.8847\n",
            "Epoch 172/200\n",
            "1899/1899 [==============================] - 4s 2ms/step - loss: 0.3582 - accuracy: 0.8847\n",
            "Epoch 173/200\n",
            "1899/1899 [==============================] - 4s 2ms/step - loss: 0.3584 - accuracy: 0.8847\n",
            "Epoch 174/200\n",
            "1899/1899 [==============================] - 4s 2ms/step - loss: 0.3583 - accuracy: 0.8847\n",
            "Epoch 175/200\n",
            "1899/1899 [==============================] - 4s 2ms/step - loss: 0.3582 - accuracy: 0.8847\n",
            "Epoch 176/200\n",
            "1899/1899 [==============================] - 4s 2ms/step - loss: 0.3586 - accuracy: 0.8847\n",
            "Epoch 177/200\n",
            "1899/1899 [==============================] - 4s 2ms/step - loss: 0.3585 - accuracy: 0.8847\n",
            "Epoch 178/200\n",
            "1899/1899 [==============================] - 4s 2ms/step - loss: 0.3585 - accuracy: 0.8847\n",
            "Epoch 179/200\n",
            "1899/1899 [==============================] - 5s 2ms/step - loss: 0.3584 - accuracy: 0.8847\n",
            "Epoch 180/200\n",
            "1899/1899 [==============================] - 5s 3ms/step - loss: 0.3582 - accuracy: 0.8847\n",
            "Epoch 181/200\n",
            "1899/1899 [==============================] - 5s 2ms/step - loss: 0.3586 - accuracy: 0.8847\n",
            "Epoch 182/200\n",
            "1899/1899 [==============================] - 4s 2ms/step - loss: 0.3587 - accuracy: 0.8847\n",
            "Epoch 183/200\n",
            "1899/1899 [==============================] - 4s 2ms/step - loss: 0.3584 - accuracy: 0.8847\n",
            "Epoch 184/200\n",
            "1899/1899 [==============================] - 4s 2ms/step - loss: 0.3584 - accuracy: 0.8847\n",
            "Epoch 185/200\n",
            "1899/1899 [==============================] - 4s 2ms/step - loss: 0.3585 - accuracy: 0.8847\n",
            "Epoch 186/200\n",
            "1899/1899 [==============================] - 4s 2ms/step - loss: 0.3584 - accuracy: 0.8847\n",
            "Epoch 187/200\n",
            "1899/1899 [==============================] - 4s 2ms/step - loss: 0.3585 - accuracy: 0.8847\n",
            "Epoch 188/200\n",
            "1899/1899 [==============================] - 4s 2ms/step - loss: 0.3584 - accuracy: 0.8847\n",
            "Epoch 189/200\n",
            "1899/1899 [==============================] - 4s 2ms/step - loss: 0.3586 - accuracy: 0.8847\n",
            "Epoch 190/200\n",
            "1899/1899 [==============================] - 4s 2ms/step - loss: 0.3585 - accuracy: 0.8847\n",
            "Epoch 191/200\n",
            "1899/1899 [==============================] - 4s 2ms/step - loss: 0.3583 - accuracy: 0.8847\n",
            "Epoch 192/200\n",
            "1899/1899 [==============================] - 4s 2ms/step - loss: 0.3583 - accuracy: 0.8847\n",
            "Epoch 193/200\n",
            "1899/1899 [==============================] - 4s 2ms/step - loss: 0.3583 - accuracy: 0.8847\n",
            "Epoch 194/200\n",
            "1899/1899 [==============================] - 4s 2ms/step - loss: 0.3582 - accuracy: 0.8847\n",
            "Epoch 195/200\n",
            "1899/1899 [==============================] - 4s 2ms/step - loss: 0.3585 - accuracy: 0.8847\n",
            "Epoch 196/200\n",
            "1899/1899 [==============================] - 4s 2ms/step - loss: 0.3585 - accuracy: 0.8847\n",
            "Epoch 197/200\n",
            "1899/1899 [==============================] - 4s 2ms/step - loss: 0.3584 - accuracy: 0.8847\n",
            "Epoch 198/200\n",
            "1899/1899 [==============================] - 4s 2ms/step - loss: 0.3586 - accuracy: 0.8847\n",
            "Epoch 199/200\n",
            "1899/1899 [==============================] - 4s 2ms/step - loss: 0.3587 - accuracy: 0.8847\n",
            "Epoch 200/200\n",
            "1899/1899 [==============================] - 4s 2ms/step - loss: 0.3583 - accuracy: 0.8847\n"
          ],
          "name": "stdout"
        },
        {
          "output_type": "execute_result",
          "data": {
            "text/plain": [
              "<tensorflow.python.keras.callbacks.History at 0x7fc8a2129908>"
            ]
          },
          "metadata": {
            "tags": []
          },
          "execution_count": 25
        }
      ]
    },
    {
      "cell_type": "code",
      "metadata": {
        "colab": {
          "base_uri": "https://localhost:8080/"
        },
        "id": "UK1xLUy43haz",
        "outputId": "e0570888-9607-4dab-f9ad-5b54c4c31e4e"
      },
      "source": [
        "_, accuracy1 = model1.evaluate(x_val, y_val)"
      ],
      "execution_count": null,
      "outputs": [
        {
          "output_type": "stream",
          "text": [
            "198/198 [==============================] - 0s 2ms/step - loss: 0.3630 - accuracy: 0.8821\n"
          ],
          "name": "stdout"
        }
      ]
    },
    {
      "cell_type": "code",
      "metadata": {
        "id": "PlvNxJ3jX55T"
      },
      "source": [
        "#_, accuracy = model.evaluate(x_val, y_val)"
      ],
      "execution_count": null,
      "outputs": []
    },
    {
      "cell_type": "code",
      "metadata": {
        "id": "mPDWFPrufnK0"
      },
      "source": [
        "#feature engg\n",
        "\n",
        "#retaining features duration, campaign, pday, previous, housing_le, contact_le, job_retired, job_student"
      ],
      "execution_count": null,
      "outputs": []
    },
    {
      "cell_type": "code",
      "metadata": {
        "id": "dx7qVSaXhrR2"
      },
      "source": [
        "x_fe=fin_df[['duration','campaign','pdays','previous','housing_le','loan_le','contact_le','job_blue-collar','job_management','job_retired','job_services','job_student']]\n",
        "y_fe=fin_df['subscribed_le']"
      ],
      "execution_count": null,
      "outputs": []
    },
    {
      "cell_type": "code",
      "metadata": {
        "colab": {
          "base_uri": "https://localhost:8080/"
        },
        "id": "c8c5GA21oaxB",
        "outputId": "79fb3387-a985-4209-9d21-c416e4b95f8d"
      },
      "source": [
        "x_fe.info()"
      ],
      "execution_count": null,
      "outputs": [
        {
          "output_type": "stream",
          "text": [
            "<class 'pandas.core.frame.DataFrame'>\n",
            "RangeIndex: 31647 entries, 0 to 31646\n",
            "Data columns (total 12 columns):\n",
            " #   Column           Non-Null Count  Dtype\n",
            "---  ------           --------------  -----\n",
            " 0   duration         31647 non-null  int64\n",
            " 1   campaign         31647 non-null  int64\n",
            " 2   pdays            31647 non-null  int64\n",
            " 3   previous         31647 non-null  int64\n",
            " 4   housing_le       31647 non-null  int64\n",
            " 5   loan_le          31647 non-null  int64\n",
            " 6   contact_le       31647 non-null  int64\n",
            " 7   job_blue-collar  31647 non-null  uint8\n",
            " 8   job_management   31647 non-null  uint8\n",
            " 9   job_retired      31647 non-null  uint8\n",
            " 10  job_services     31647 non-null  uint8\n",
            " 11  job_student      31647 non-null  uint8\n",
            "dtypes: int64(7), uint8(5)\n",
            "memory usage: 1.8 MB\n"
          ],
          "name": "stdout"
        }
      ]
    },
    {
      "cell_type": "code",
      "metadata": {
        "id": "WQ5X1ytsony6"
      },
      "source": [
        "x_train_fe,x_test_fe,y_train_fe,y_test_fe=train_test_split(x_fe,y_fe,test_size=0.2,random_state=100)"
      ],
      "execution_count": null,
      "outputs": []
    },
    {
      "cell_type": "code",
      "metadata": {
        "id": "F5DMWA31o_N4"
      },
      "source": [
        "x_train_fe, x_val_fe, y_train_fe, y_val_fe = train_test_split(x_train_fe, y_train_fe, test_size=0.25, random_state=100) # 0.25 x 0.8 = 0.2"
      ],
      "execution_count": null,
      "outputs": []
    },
    {
      "cell_type": "code",
      "metadata": {
        "id": "kxQ0R6gjpO2E"
      },
      "source": [
        "model_dtrees_fe=GridSearchCV(DecisionTreeClassifier(random_state=101),param_grid_dtrees,cv=10,scoring='accuracy')"
      ],
      "execution_count": null,
      "outputs": []
    },
    {
      "cell_type": "code",
      "metadata": {
        "colab": {
          "base_uri": "https://localhost:8080/"
        },
        "id": "oWMTKreIpZ_c",
        "outputId": "46012834-3035-4310-98ca-5b5fa8c58c69"
      },
      "source": [
        "model_dtrees_fe.fit(x_train_fe,y_train_fe)"
      ],
      "execution_count": null,
      "outputs": [
        {
          "output_type": "execute_result",
          "data": {
            "text/plain": [
              "GridSearchCV(cv=10, error_score=nan,\n",
              "             estimator=DecisionTreeClassifier(ccp_alpha=0.0, class_weight=None,\n",
              "                                              criterion='gini', max_depth=None,\n",
              "                                              max_features=None,\n",
              "                                              max_leaf_nodes=None,\n",
              "                                              min_impurity_decrease=0.0,\n",
              "                                              min_impurity_split=None,\n",
              "                                              min_samples_leaf=1,\n",
              "                                              min_samples_split=2,\n",
              "                                              min_weight_fraction_leaf=0.0,\n",
              "                                              presort='deprecated',\n",
              "                                              random_state=101,\n",
              "                                              splitter='best'),\n",
              "             iid='deprecated', n_jobs=None,\n",
              "             param_grid=[{'criterion': ['gini', 'entropy'],\n",
              "                          'max_depth': [3, None], 'min_samples_leaf': [4],\n",
              "                          'splitter': ['best', 'random']}],\n",
              "             pre_dispatch='2*n_jobs', refit=True, return_train_score=False,\n",
              "             scoring='accuracy', verbose=0)"
            ]
          },
          "metadata": {
            "tags": []
          },
          "execution_count": 79
        }
      ]
    },
    {
      "cell_type": "code",
      "metadata": {
        "colab": {
          "base_uri": "https://localhost:8080/"
        },
        "id": "MB1QXZsWpiL9",
        "outputId": "41cdf1de-da41-4f17-903f-cdb3e38fd49b"
      },
      "source": [
        "model_dtrees_fe.best_params_"
      ],
      "execution_count": null,
      "outputs": [
        {
          "output_type": "execute_result",
          "data": {
            "text/plain": [
              "{'criterion': 'entropy',\n",
              " 'max_depth': 3,\n",
              " 'min_samples_leaf': 4,\n",
              " 'splitter': 'best'}"
            ]
          },
          "metadata": {
            "tags": []
          },
          "execution_count": 80
        }
      ]
    },
    {
      "cell_type": "code",
      "metadata": {
        "id": "O6qpBzIQ_RGy"
      },
      "source": [
        ""
      ],
      "execution_count": null,
      "outputs": []
    },
    {
      "cell_type": "code",
      "metadata": {
        "id": "B-U04Juo_RD6"
      },
      "source": [
        ""
      ],
      "execution_count": null,
      "outputs": []
    },
    {
      "cell_type": "code",
      "metadata": {
        "colab": {
          "base_uri": "https://localhost:8080/",
          "height": 163
        },
        "id": "TpHFs1wNptiu",
        "outputId": "318a48a5-578f-4087-d7a1-eb026c52576f"
      },
      "source": [
        "model_dtrees_pred_fe=model_dtrees_fe.predict(x_val_fe)"
      ],
      "execution_count": null,
      "outputs": [
        {
          "output_type": "error",
          "ename": "NameError",
          "evalue": "ignored",
          "traceback": [
            "\u001b[0;31m---------------------------------------------------------------------------\u001b[0m",
            "\u001b[0;31mNameError\u001b[0m                                 Traceback (most recent call last)",
            "\u001b[0;32m<ipython-input-25-6d904560798b>\u001b[0m in \u001b[0;36m<module>\u001b[0;34m()\u001b[0m\n\u001b[0;32m----> 1\u001b[0;31m \u001b[0mmodel_dtrees_pred_fe\u001b[0m\u001b[0;34m=\u001b[0m\u001b[0mmodel_dtrees_fe\u001b[0m\u001b[0;34m.\u001b[0m\u001b[0mpredict\u001b[0m\u001b[0;34m(\u001b[0m\u001b[0mx_val_fe\u001b[0m\u001b[0;34m)\u001b[0m\u001b[0;34m\u001b[0m\u001b[0;34m\u001b[0m\u001b[0m\n\u001b[0m",
            "\u001b[0;31mNameError\u001b[0m: name 'model_dtrees_fe' is not defined"
          ]
        }
      ]
    },
    {
      "cell_type": "code",
      "metadata": {
        "colab": {
          "base_uri": "https://localhost:8080/"
        },
        "id": "GIlarlxnp12_",
        "outputId": "f1813d95-6148-4f48-e403-5e9df3e64ac1"
      },
      "source": [
        "print(classification_report(y_val_fe,model_dtrees_pred_fe))"
      ],
      "execution_count": null,
      "outputs": [
        {
          "output_type": "stream",
          "text": [
            "              precision    recall  f1-score   support\n",
            "\n",
            "           0       0.91      0.98      0.94      5584\n",
            "           1       0.57      0.24      0.34       746\n",
            "\n",
            "    accuracy                           0.89      6330\n",
            "   macro avg       0.74      0.61      0.64      6330\n",
            "weighted avg       0.87      0.89      0.87      6330\n",
            "\n"
          ],
          "name": "stdout"
        }
      ]
    },
    {
      "cell_type": "code",
      "metadata": {
        "id": "J9un9EkQp9pc"
      },
      "source": [
        "model_dtrees_best_estimator_fe=DecisionTreeClassifier(criterion='entropy',max_depth=3,min_samples_leaf=4,splitter='best',random_state=123)"
      ],
      "execution_count": null,
      "outputs": []
    },
    {
      "cell_type": "code",
      "metadata": {
        "colab": {
          "base_uri": "https://localhost:8080/"
        },
        "id": "wbIsvdmMt86_",
        "outputId": "f784f322-8982-47c6-cae6-b706b761fced"
      },
      "source": [
        "model_dtrees_best_estimator_fe.fit(x_train_fe,y_train_fe)"
      ],
      "execution_count": null,
      "outputs": [
        {
          "output_type": "execute_result",
          "data": {
            "text/plain": [
              "DecisionTreeClassifier(ccp_alpha=0.0, class_weight=None, criterion='entropy',\n",
              "                       max_depth=3, max_features=None, max_leaf_nodes=None,\n",
              "                       min_impurity_decrease=0.0, min_impurity_split=None,\n",
              "                       min_samples_leaf=4, min_samples_split=2,\n",
              "                       min_weight_fraction_leaf=0.0, presort='deprecated',\n",
              "                       random_state=123, splitter='best')"
            ]
          },
          "metadata": {
            "tags": []
          },
          "execution_count": 27
        }
      ]
    },
    {
      "cell_type": "code",
      "metadata": {
        "id": "6S_GLlWsuOBR"
      },
      "source": [
        "model_dtrees_pred_best_est_fe=model_dtrees_best_estimator_fe.predict(x_val_fe)"
      ],
      "execution_count": null,
      "outputs": []
    },
    {
      "cell_type": "code",
      "metadata": {
        "colab": {
          "base_uri": "https://localhost:8080/"
        },
        "id": "tvuYcNglur1T",
        "outputId": "c1b3fd90-af6e-4670-ff2e-73fb732519eb"
      },
      "source": [
        "print(classification_report(y_val_fe,model_dtrees_pred_best_est_fe))"
      ],
      "execution_count": null,
      "outputs": [
        {
          "output_type": "stream",
          "text": [
            "              precision    recall  f1-score   support\n",
            "\n",
            "           0       0.91      0.98      0.94      5584\n",
            "           1       0.57      0.24      0.34       746\n",
            "\n",
            "    accuracy                           0.89      6330\n",
            "   macro avg       0.74      0.61      0.64      6330\n",
            "weighted avg       0.87      0.89      0.87      6330\n",
            "\n"
          ],
          "name": "stdout"
        }
      ]
    },
    {
      "cell_type": "code",
      "metadata": {
        "id": "-YBvDjhv9Fgs"
      },
      "source": [
        "#Random Forest with fe"
      ],
      "execution_count": null,
      "outputs": []
    },
    {
      "cell_type": "code",
      "metadata": {
        "id": "Opln31rxvISS"
      },
      "source": [
        "model_rf_fe=GridSearchCV(RandomForestClassifier(random_state=123),param_grid1_rf,cv=5,scoring='accuracy')"
      ],
      "execution_count": null,
      "outputs": []
    },
    {
      "cell_type": "code",
      "metadata": {
        "colab": {
          "base_uri": "https://localhost:8080/"
        },
        "id": "oUrqT9Sk9Jed",
        "outputId": "f9a9f398-41ab-45ec-bb24-0e588e256e02"
      },
      "source": [
        "model_rf_fe.fit(x_train_fe,y_train_fe)"
      ],
      "execution_count": null,
      "outputs": [
        {
          "output_type": "execute_result",
          "data": {
            "text/plain": [
              "GridSearchCV(cv=5, error_score=nan,\n",
              "             estimator=RandomForestClassifier(bootstrap=True, ccp_alpha=0.0,\n",
              "                                              class_weight=None,\n",
              "                                              criterion='gini', max_depth=None,\n",
              "                                              max_features='auto',\n",
              "                                              max_leaf_nodes=None,\n",
              "                                              max_samples=None,\n",
              "                                              min_impurity_decrease=0.0,\n",
              "                                              min_impurity_split=None,\n",
              "                                              min_samples_leaf=1,\n",
              "                                              min_samples_split=2,\n",
              "                                              min_weight_fraction_leaf=0.0,\n",
              "                                              n_estimators=100, n_jobs=None,\n",
              "                                              oob_score=False, random_state=123,\n",
              "                                              verbose=0, warm_start=False),\n",
              "             iid='deprecated', n_jobs=None,\n",
              "             param_grid=[{'bootstrap': [True, False],\n",
              "                          'max_depth': [10, 20, 30, 40, 50, 60, 70, 80, 90, 100,\n",
              "                                        None],\n",
              "                          'max_features': ['auto', 'sqrt'],\n",
              "                          'min_samples_leaf': [1, 2, 4],\n",
              "                          'min_samples_split': [2, 5, 10],\n",
              "                          'n_estimators': [200]}],\n",
              "             pre_dispatch='2*n_jobs', refit=True, return_train_score=False,\n",
              "             scoring='accuracy', verbose=0)"
            ]
          },
          "metadata": {
            "tags": []
          },
          "execution_count": 17
        }
      ]
    },
    {
      "cell_type": "code",
      "metadata": {
        "colab": {
          "base_uri": "https://localhost:8080/"
        },
        "id": "tqKD5H-rpnnZ",
        "outputId": "f36522b0-8017-421e-9a08-3c562d6cd5e3"
      },
      "source": [
        "model_rf_fe.best_params_"
      ],
      "execution_count": null,
      "outputs": [
        {
          "output_type": "execute_result",
          "data": {
            "text/plain": [
              "{'bootstrap': False,\n",
              " 'max_depth': 10,\n",
              " 'max_features': 'auto',\n",
              " 'min_samples_leaf': 1,\n",
              " 'min_samples_split': 5,\n",
              " 'n_estimators': 200}"
            ]
          },
          "metadata": {
            "tags": []
          },
          "execution_count": 21
        }
      ]
    },
    {
      "cell_type": "code",
      "metadata": {
        "id": "DOf24LRBpxEi"
      },
      "source": [
        "model_rf_best_estimator_fe1=RandomForestClassifier(bootstrap=False,max_depth=10,max_features='auto',min_samples_leaf=1,min_samples_split=5,n_estimators=200)"
      ],
      "execution_count": null,
      "outputs": []
    },
    {
      "cell_type": "code",
      "metadata": {
        "colab": {
          "base_uri": "https://localhost:8080/"
        },
        "id": "aOn_b6x8q8-Z",
        "outputId": "72342202-6251-433f-cad8-1f352293e749"
      },
      "source": [
        "model_rf_best_estimator_fe1.fit(x_train_fe,y_train_fe)"
      ],
      "execution_count": null,
      "outputs": [
        {
          "output_type": "execute_result",
          "data": {
            "text/plain": [
              "RandomForestClassifier(bootstrap=False, ccp_alpha=0.0, class_weight=None,\n",
              "                       criterion='gini', max_depth=10, max_features='auto',\n",
              "                       max_leaf_nodes=None, max_samples=None,\n",
              "                       min_impurity_decrease=0.0, min_impurity_split=None,\n",
              "                       min_samples_leaf=1, min_samples_split=5,\n",
              "                       min_weight_fraction_leaf=0.0, n_estimators=200,\n",
              "                       n_jobs=None, oob_score=False, random_state=None,\n",
              "                       verbose=0, warm_start=False)"
            ]
          },
          "metadata": {
            "tags": []
          },
          "execution_count": 26
        }
      ]
    },
    {
      "cell_type": "code",
      "metadata": {
        "id": "mpJ9b6JC9fWg"
      },
      "source": [
        "model_rf_best_pred_fe=model_rf_best_estimator_fe1.predict(x_val_fe)"
      ],
      "execution_count": null,
      "outputs": []
    },
    {
      "cell_type": "code",
      "metadata": {
        "colab": {
          "base_uri": "https://localhost:8080/"
        },
        "id": "hX9qNWIipOHg",
        "outputId": "c2234bc9-11f8-424e-8dd0-171ad660e477"
      },
      "source": [
        "print(classification_report(y_val_fe,model_rf_best_pred_fe))"
      ],
      "execution_count": null,
      "outputs": [
        {
          "output_type": "stream",
          "text": [
            "              precision    recall  f1-score   support\n",
            "\n",
            "           0       0.91      0.98      0.94      5584\n",
            "           1       0.62      0.28      0.38       746\n",
            "\n",
            "    accuracy                           0.89      6330\n",
            "   macro avg       0.76      0.63      0.66      6330\n",
            "weighted avg       0.88      0.89      0.88      6330\n",
            "\n"
          ],
          "name": "stdout"
        }
      ]
    },
    {
      "cell_type": "code",
      "metadata": {
        "id": "iDPegG1nrKm2"
      },
      "source": [
        ""
      ],
      "execution_count": null,
      "outputs": []
    }
  ]
}